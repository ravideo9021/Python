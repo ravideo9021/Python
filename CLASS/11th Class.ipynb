{
 "cells": [
  {
   "cell_type": "code",
   "execution_count": 1,
   "id": "67c3148c",
   "metadata": {},
   "outputs": [
    {
     "name": "stdout",
     "output_type": "stream",
     "text": [
      "hello\n"
     ]
    }
   ],
   "source": [
    "print(\"Hello\".lower())"
   ]
  },
  {
   "cell_type": "code",
   "execution_count": 16,
   "id": "168d1332",
   "metadata": {},
   "outputs": [
    {
     "name": "stdout",
     "output_type": "stream",
     "text": [
      "Vowels\t Count\t Index\n",
      " a\t 0\t 0\n",
      " e\t 1\t 1\n",
      " i\t 0\t 2\n",
      " o\t 2\t 3\n",
      " u\t 0\t 4\n"
     ]
    }
   ],
   "source": [
    "count = [0, 0, 0, 0, 0]\n",
    "vowels = 'aeiou'\n",
    "\n",
    "for index, char in enumerate(\"Hello World\".lower()):\n",
    "    if char in vowels:\n",
    "        count[vowels.index(char)] += 1  #take a clear look\n",
    "\n",
    "print(\"Vowels\\t Count\\t Index\")\n",
    "for i, vowel in enumerate(vowels):\n",
    "    print(f\" {vowel}\\t {count[i]}\\t {i}\")"
   ]
  },
  {
   "cell_type": "code",
   "execution_count": 17,
   "id": "e3bff679",
   "metadata": {},
   "outputs": [
    {
     "name": "stdout",
     "output_type": "stream",
     "text": [
      "0 a\n",
      "1 a\n",
      "2 c\n",
      "3 a\n",
      "4 t\n"
     ]
    }
   ],
   "source": [
    "count_a = 0\n",
    "string = \"aacat\"\n",
    "\n",
    "for i, v in enumerate(string):\n",
    "    print(i, v)"
   ]
  }
 ],
 "metadata": {
  "kernelspec": {
   "display_name": "Python 3 (ipykernel)",
   "language": "python",
   "name": "python3"
  },
  "language_info": {
   "codemirror_mode": {
    "name": "ipython",
    "version": 3
   },
   "file_extension": ".py",
   "mimetype": "text/x-python",
   "name": "python",
   "nbconvert_exporter": "python",
   "pygments_lexer": "ipython3",
   "version": "3.11.5"
  }
 },
 "nbformat": 4,
 "nbformat_minor": 5
}
