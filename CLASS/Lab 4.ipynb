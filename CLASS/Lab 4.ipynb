{
 "cells": [
  {
   "cell_type": "code",
   "execution_count": null,
   "id": "e7e36a15",
   "metadata": {},
   "outputs": [],
   "source": [
    "#Set is a collection tha tis unorderd , unchangeble, and unindexed.\n",
    "\n",
    "#set items can appear in different order every time you use them, and cannot be reffered to by index or key\n",
    "\n",
    "#to remove an item in a set use, the remove(), or thr discard() method.\n",
    "# also can remove by pop() but it will remove a random value."
   ]
  },
  {
   "cell_type": "code",
   "execution_count": 4,
   "id": "9114cfcc",
   "metadata": {},
   "outputs": [
    {
     "name": "stdout",
     "output_type": "stream",
     "text": [
      "{'ravi', 'rahul'}\n"
     ]
    }
   ],
   "source": [
    "s = {'ravi', 'yash', 'rahul'}\n",
    "s.remove('yash')\n",
    "print(s)"
   ]
  },
  {
   "cell_type": "code",
   "execution_count": 5,
   "id": "282801b2",
   "metadata": {},
   "outputs": [
    {
     "name": "stdout",
     "output_type": "stream",
     "text": [
      "{1, 4, 20, 8, 60, 15}\n"
     ]
    }
   ],
   "source": [
    "set1 = {1 ,4, 8}\n",
    "set2 = {20, 15 ,60}\n",
    "set3 = set1.union(set2)\n",
    "\n",
    "print(set3)"
   ]
  },
  {
   "cell_type": "code",
   "execution_count": 12,
   "id": "8fda8a34",
   "metadata": {},
   "outputs": [
    {
     "name": "stdout",
     "output_type": "stream",
     "text": [
      "{1, 'rahul', 5, 8, 'ravi', 'yash'}\n"
     ]
    }
   ],
   "source": [
    "set1 = {'ravi', 'yash', 'rahul'}\n",
    "set2 = {1, 5, 8}\n",
    "set2.update(set1)\n",
    "\n",
    "print(set2)"
   ]
  },
  {
   "cell_type": "code",
   "execution_count": 14,
   "id": "dfd34db4",
   "metadata": {},
   "outputs": [
    {
     "name": "stdout",
     "output_type": "stream",
     "text": [
      "6\n"
     ]
    }
   ],
   "source": [
    "s = [1, 2, 3, {2 ,3}, 5, 6]\n",
    "sum = 0\n",
    "i = 0;\n",
    "while(type(s[i]) != set):\n",
    "    sum += s[i]\n",
    "    i += 1\n",
    "    \n",
    "print(sum)"
   ]
  },
  {
   "cell_type": "code",
   "execution_count": 23,
   "id": "6c491c12",
   "metadata": {},
   "outputs": [
    {
     "name": "stdout",
     "output_type": "stream",
     "text": [
      "28\n"
     ]
    }
   ],
   "source": [
    "s = [1, 2, (2 ,5), 1+4j, (6 ,7 ,8), 6 ,2]\n",
    "\n",
    "sum = 0\n",
    "i = 0\n",
    "\n",
    "while i < len(s):\n",
    "    if (isinstance(s[i], tuple)):    \n",
    "        j = 0\n",
    "        while(j < len(s[i])):\n",
    "            sum += s[i][j]\n",
    "            j += 1\n",
    "    i += 1\n",
    "    \n",
    "print(sum)"
   ]
  }
 ],
 "metadata": {
  "kernelspec": {
   "display_name": "Python 3 (ipykernel)",
   "language": "python",
   "name": "python3"
  },
  "language_info": {
   "codemirror_mode": {
    "name": "ipython",
    "version": 3
   },
   "file_extension": ".py",
   "mimetype": "text/x-python",
   "name": "python",
   "nbconvert_exporter": "python",
   "pygments_lexer": "ipython3",
   "version": "3.11.5"
  }
 },
 "nbformat": 4,
 "nbformat_minor": 5
}
