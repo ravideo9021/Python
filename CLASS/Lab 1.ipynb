{
 "cells": [
  {
   "cell_type": "code",
   "execution_count": 1,
   "id": "1d736c04",
   "metadata": {},
   "outputs": [
    {
     "name": "stdout",
     "output_type": "stream",
     "text": [
      "Divisior = 2\n",
      "Divident = 15\n",
      "Floor Division = 7\n"
     ]
    }
   ],
   "source": [
    "#write a program to perform floor division(//)of two numbers\n",
    "\n",
    "num1 = int(input(\"Divisior = \"))\n",
    "num2 = int(input(\"Divident = \"))\n",
    "\n",
    "result = num2//num1\n",
    "print(\"Floor Division =\",result)"
   ]
  },
  {
   "cell_type": "code",
   "execution_count": 11,
   "id": "e6ceff22",
   "metadata": {},
   "outputs": [
    {
     "name": "stdout",
     "output_type": "stream",
     "text": [
      "What is the Radius? 3\n",
      "Area = 28.27\n"
     ]
    }
   ],
   "source": [
    "#write a program to find the area of circle\n",
    "\n",
    "import math\n",
    "\n",
    "radius = float(input(\"What is the Radius? \"))\n",
    "area = math.pi * radius * radius\n",
    "\n",
    "print(\"Area =\", round(area, 2))"
   ]
  },
  {
   "cell_type": "code",
   "execution_count": 14,
   "id": "7476f5b4",
   "metadata": {},
   "outputs": [
    {
     "name": "stdout",
     "output_type": "stream",
     "text": [
      "First Number:\n",
      "Real part  = 4\n",
      "Imaginary Part = 4\n",
      "Second Number:\n",
      "Real part  = 6\n",
      "Imaginary Part = 6\n",
      "Sum = 10 + 10i\n"
     ]
    }
   ],
   "source": [
    "#write a program to add two complex number\n",
    "\n",
    "print(\"First Number:\")\n",
    "real1 = int(input(\"Real part  = \"))\n",
    "imaginary1 = int(input(\"Imaginary Part = \"))\n",
    "\n",
    "print(\"Second Number:\")maq\n",
    "real2 = int(input(\"Real part  = \"))\n",
    "imaginary2 = int(input(\"Imaginary Part = \"))\n",
    "\n",
    "realsum = real1 + real2\n",
    "imagsum = imaginary1+ imaginary2\n",
    "\n",
    "print(f\"Sum = {realsum} + {imagsum}i\")"
   ]
  },
  {
   "cell_type": "code",
   "execution_count": 30,
   "id": "77f7bc37",
   "metadata": {},
   "outputs": [
    {
     "name": "stdout",
     "output_type": "stream",
     "text": [
      "Name = RaviDeo\n",
      "['o', 'e', 'D', 'i', 'v', 'a', 'R']\n"
     ]
    }
   ],
   "source": [
    "#progrm to store name in list and print your name in reverse order\n",
    "\n",
    "\n",
    "name = input(\"Name = \")\n",
    "namelist = list(name)\n",
    "\n",
    "print(namelist[::-1])"
   ]
  },
  {
   "cell_type": "code",
   "execution_count": 31,
   "id": "cd6e0ec7",
   "metadata": {},
   "outputs": [
    {
     "name": "stdout",
     "output_type": "stream",
     "text": [
      "('Yash', 'Rahul', 'Ujjwal', 'Aditya')\n"
     ]
    }
   ],
   "source": [
    "#Write a program to convert a list to tuple\n",
    "\n",
    "lst = [\"Yash\", \"Rahul\", \"Ujjwal\", \"Aditya\"]\n",
    "tpl = tuple(lst)\n",
    "print(tpl)"
   ]
  },
  {
   "cell_type": "code",
   "execution_count": 48,
   "id": "d9375a86",
   "metadata": {},
   "outputs": [
    {
     "name": "stdout",
     "output_type": "stream",
     "text": [
      "Ravi Deo, Percentage = 100%\n",
      "Yash PomPom, Percentage = 80%\n",
      "Rahul The Little one, Percentage = 76%\n",
      "Average = 85.33\n"
     ]
    }
   ],
   "source": [
    "#Write a program to create a dictoinary that will store grades of 3 Students.\n",
    "#Find the average of marks of each student along with precentage.\n",
    "\n",
    "stuDetail = [\n",
    "    {\"name\": \"Ravi Deo\", \"mark\": \"100\"},\n",
    "    {\"name\": \"Yash PomPom\", \"mark\": \"80\"},\n",
    "    {\"name\": \"Rahul The Little one\", \"mark\": \"76\"}\n",
    "]\n",
    "average = 0.00\n",
    "for student in stuDetail:\n",
    "    average += float(student[\"mark\"])/3\n",
    "    \n",
    "for student in stuDetail:\n",
    "    print(f\"{student['name']}, Percentage = {student['mark']}%\")\n",
    "    \n",
    "print(f\"Average = {average:.2f}\")"
   ]
  }
 ],
 "metadata": {
  "kernelspec": {
   "display_name": "Python 3 (ipykernel)",
   "language": "python",
   "name": "python3"
  },
  "language_info": {
   "codemirror_mode": {
    "name": "ipython",
    "version": 3
   },
   "file_extension": ".py",
   "mimetype": "text/x-python",
   "name": "python",
   "nbconvert_exporter": "python",
   "pygments_lexer": "ipython3",
   "version": "3.11.5"
  }
 },
 "nbformat": 4,
 "nbformat_minor": 5
}
