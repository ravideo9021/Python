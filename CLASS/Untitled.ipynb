{
 "cells": [
  {
   "cell_type": "code",
   "execution_count": null,
   "id": "b1bfdabc",
   "metadata": {},
   "outputs": [],
   "source": [
    "lst = [] \n",
    "sumE = 0 \n",
    "sumO = 0\n",
    "\n",
    "for i in range(10):\n",
    "    element = int(input(\"Enter a Num: \"))\n",
    "    lst.append(element)\n",
    "\n",
    "if element < 0:\n",
    "    break\n",
    "elif element % 2 == 0:\n",
    "    sumE += element\n",
    "else: \n",
    "    sumO += element\n",
    "    \n",
    "print(\"Sum of Even numbers: \", sumE)\n",
    "print(\"Sum of Odd numbers: \", sumO)"
   ]
  }
 ],
 "metadata": {
  "kernelspec": {
   "display_name": "Python 3 (ipykernel)",
   "language": "python",
   "name": "python3"
  },
  "language_info": {
   "codemirror_mode": {
    "name": "ipython",
    "version": 3
   },
   "file_extension": ".py",
   "mimetype": "text/x-python",
   "name": "python",
   "nbconvert_exporter": "python",
   "pygments_lexer": "ipython3",
   "version": "3.11.5"
  }
 },
 "nbformat": 4,
 "nbformat_minor": 5
}
