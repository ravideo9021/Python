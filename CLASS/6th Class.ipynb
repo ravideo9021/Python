{
 "cells": [
  {
   "cell_type": "code",
   "execution_count": 2,
   "id": "f780d5c1",
   "metadata": {},
   "outputs": [
    {
     "name": "stdout",
     "output_type": "stream",
     "text": [
      "ello\n"
     ]
    }
   ],
   "source": [
    "txt = 'Hello, World'\n",
    "new_txt = txt[1:5]\n",
    "print(new_txt)"
   ]
  },
  {
   "cell_type": "code",
   "execution_count": 3,
   "id": "a2a89a44",
   "metadata": {},
   "outputs": [
    {
     "name": "stdout",
     "output_type": "stream",
     "text": [
      "5\n"
     ]
    }
   ],
   "source": [
    "lst = [10, 20, 30, 40, 50]\n",
    "print(len(lst))"
   ]
  },
  {
   "cell_type": "code",
   "execution_count": 5,
   "id": "8525efb6",
   "metadata": {},
   "outputs": [
    {
     "name": "stdout",
     "output_type": "stream",
     "text": [
      "10\n",
      "20\n",
      "30\n",
      "40\n",
      "50\n"
     ]
    }
   ],
   "source": [
    "i = 0\n",
    "while i < len(lst):\n",
    "    print(lst[i])\n",
    "    i += 1\n",
    "else:\n",
    "     print(\"Tick Tok\")"
   ]
  },
  {
   "cell_type": "code",
   "execution_count": 7,
   "id": "b13b2e2a",
   "metadata": {},
   "outputs": [
    {
     "name": "stdout",
     "output_type": "stream",
     "text": [
      "150\n"
     ]
    }
   ],
   "source": [
    "lst = [10, 20, 30, 40, 50]\n",
    "sum = 0\n",
    "i = 0\n",
    "\n",
    "while i < len(lst):\n",
    "    sum += lst[i]\n",
    "    i += 1\n",
    "    \n",
    "print(sum)"
   ]
  },
  {
   "cell_type": "code",
   "execution_count": 4,
   "id": "80f2c6f7",
   "metadata": {},
   "outputs": [
    {
     "name": "stdout",
     "output_type": "stream",
     "text": [
      "Even Numbers: 10, 30, 86, 56, \n",
      "Odd Numbers: 23, 45, 67, 33, 55, 21, "
     ]
    }
   ],
   "source": [
    "nums = [10, 30, 23, 45, 67 ,86, 33, 55, 21, 56]\n",
    "\n",
    "i = 0\n",
    "print(\"Even Numbers: \", end = '')\n",
    "while i < len(nums):\n",
    "    if nums[i] % 2 == 0:\n",
    "        print(f\"{nums[i]}, \", end = '')\n",
    "    i += 1\n",
    "\n",
    "i = 0\n",
    "print(\"\\nOdd Numbers: \", end = '')\n",
    "while i < len(nums):\n",
    "    if nums[i] % 2 != 0:\n",
    "        print(f\"{nums[i]}, \", end = '')\n",
    "    i += 1"
   ]
  },
  {
   "cell_type": "code",
   "execution_count": null,
   "id": "220c6c51",
   "metadata": {},
   "outputs": [],
   "source": [
    "print(*object, kuch, sep = ',' , end = '\\n')\n",
    "print()"
   ]
  },
  {
   "cell_type": "code",
   "execution_count": 7,
   "id": "22ce895f",
   "metadata": {},
   "outputs": [
    {
     "name": "stdout",
     "output_type": "stream",
     "text": [
      "x is 12\n",
      "x y z\n"
     ]
    }
   ],
   "source": [
    "x = 12\n",
    "print(\"x is\", x)\n",
    "print(\"x y z\")"
   ]
  },
  {
   "cell_type": "code",
   "execution_count": 9,
   "id": "3f033dcc",
   "metadata": {},
   "outputs": [
    {
     "name": "stdout",
     "output_type": "stream",
     "text": [
      "sum is 150\n"
     ]
    }
   ],
   "source": [
    "lst = [10, 20, 30, 40, 50]\n",
    "sum = 0\n",
    "i = 0\n",
    "for i in lst:\n",
    "    sum += i\n",
    "\n",
    "print(\"sum is\", sum)"
   ]
  },
  {
   "cell_type": "code",
   "execution_count": 12,
   "id": "e7adcb66",
   "metadata": {},
   "outputs": [
    {
     "name": "stdout",
     "output_type": "stream",
     "text": [
      "1\n",
      "5\n",
      "9\n",
      "13\n",
      "17\n",
      "21\n",
      "25\n",
      "29\n",
      "33\n",
      "37\n",
      "41\n",
      "45\n",
      "49\n"
     ]
    }
   ],
   "source": [
    "for i in range(1, 50, 4): #1 = start, 50 = end, 4 = gap\n",
    "    print(i)"
   ]
  },
  {
   "cell_type": "code",
   "execution_count": 18,
   "id": "3b7165b3",
   "metadata": {},
   "outputs": [
    {
     "name": "stdout",
     "output_type": "stream",
     "text": [
      "Start Number: 1\n",
      "End Number :12\n",
      "1\n",
      "3\n",
      "5\n",
      "7\n",
      "9\n",
      "11\n"
     ]
    }
   ],
   "source": [
    "# print odd numbers between two numbers given by user\n",
    "start = int(input(\"Start Number: \"))\n",
    "end = int(input(\"End Number :\"))\n",
    "                  \n",
    "for i in range(start, end):\n",
    "    if i % 2 != 0:\n",
    "        print(i)"
   ]
  },
  {
   "cell_type": "code",
   "execution_count": 22,
   "id": "88b379a5",
   "metadata": {},
   "outputs": [
    {
     "name": "stdout",
     "output_type": "stream",
     "text": [
      "Number: 6\n",
      "6 x 1 = 6\n",
      "6 x 2 = 12\n",
      "6 x 3 = 18\n",
      "6 x 4 = 24\n",
      "6 x 5 = 30\n",
      "6 x 6 = 36\n",
      "6 x 7 = 42\n",
      "6 x 8 = 48\n",
      "6 x 9 = 54\n",
      "6 x 10 = 60\n"
     ]
    }
   ],
   "source": [
    "#multiplication table\n",
    "\n",
    "num = int(input(\"Number: \"))\n",
    "for i in range(1, 11):\n",
    "    print(f\"{num} x {i} = {num*i}\")"
   ]
  }
 ],
 "metadata": {
  "kernelspec": {
   "display_name": "Python 3 (ipykernel)",
   "language": "python",
   "name": "python3"
  },
  "language_info": {
   "codemirror_mode": {
    "name": "ipython",
    "version": 3
   },
   "file_extension": ".py",
   "mimetype": "text/x-python",
   "name": "python",
   "nbconvert_exporter": "python",
   "pygments_lexer": "ipython3",
   "version": "3.11.5"
  }
 },
 "nbformat": 4,
 "nbformat_minor": 5
}
