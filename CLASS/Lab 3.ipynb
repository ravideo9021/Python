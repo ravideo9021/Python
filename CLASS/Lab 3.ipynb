{
 "cells": [
  {
   "cell_type": "code",
   "execution_count": 2,
   "id": "8d7961fe",
   "metadata": {},
   "outputs": [
    {
     "name": "stdout",
     "output_type": "stream",
     "text": [
      "['one', 'two', 'three', 'four', 'five']\n",
      "['one', 'three', 'four', 'five']\n"
     ]
    }
   ],
   "source": [
    "#list remove \n",
    "lst = ['one', 'two', 'three', 'four', 'five']\n",
    "print(lst)\n",
    "lst.remove('two')\n",
    "print(lst)"
   ]
  },
  {
   "cell_type": "code",
   "execution_count": 3,
   "id": "8e1589f7",
   "metadata": {},
   "outputs": [
    {
     "name": "stdout",
     "output_type": "stream",
     "text": [
      "[1, 3, 5, 7, 9, ['one', 'two', 'three', 'four']]\n"
     ]
    }
   ],
   "source": [
    "#list append\n",
    "lst1 = [1, 3, 5, 7, 9]\n",
    "lst2 = ['one', 'two', 'three', 'four']\n",
    "\n",
    "lst1.append(lst2)\n",
    "print(lst1)"
   ]
  },
  {
   "cell_type": "code",
   "execution_count": 7,
   "id": "80118661",
   "metadata": {},
   "outputs": [
    {
     "name": "stdout",
     "output_type": "stream",
     "text": [
      "['one', 'two', 'three', 'four']\n"
     ]
    }
   ],
   "source": [
    "#to extend a list\n",
    "lst3 = [1, 3, 5, 7, 9]\n",
    "lst4 = ['one', 'two', 'three', 'four']\n",
    "lst3.extend(lst4)\n",
    "print(lst2)"
   ]
  },
  {
   "cell_type": "code",
   "execution_count": 8,
   "id": "bfc47eba",
   "metadata": {},
   "outputs": [
    {
     "name": "stdout",
     "output_type": "stream",
     "text": [
      "[1, 3, 2, 5]\n"
     ]
    }
   ],
   "source": [
    "#delete item based on index\n",
    "\n",
    "lst = [1, 5, 3, 2, 5]\n",
    "del lst[1]\n",
    "print(lst)"
   ]
  },
  {
   "cell_type": "code",
   "execution_count": 9,
   "id": "af504d0a",
   "metadata": {},
   "outputs": [
    {
     "name": "stdout",
     "output_type": "stream",
     "text": [
      "9\n",
      "[1, 3, 5, 7]\n"
     ]
    }
   ],
   "source": [
    "#or we can use pop() method\n",
    "lst = [1, 3, 5, 7, 9]\n",
    "a = lst.pop()  #lst.pop(1) works same as previous program\n",
    "print(a)\n",
    "print(lst)"
   ]
  },
  {
   "cell_type": "code",
   "execution_count": 10,
   "id": "8c2adceb",
   "metadata": {},
   "outputs": [
    {
     "name": "stdout",
     "output_type": "stream",
     "text": [
      "Element is present\n"
     ]
    }
   ],
   "source": [
    "# 'in' keyword\n",
    "\n",
    "lst = ['one', 'two', 'three', 'four', 'five']\n",
    "if 'two' in lst:\n",
    "    print(\"Element is present\")\n",
    "else:\n",
    "    print(\"Element is not present\")"
   ]
  },
  {
   "cell_type": "code",
   "execution_count": 12,
   "id": "2eddc2f0",
   "metadata": {},
   "outputs": [
    {
     "name": "stdout",
     "output_type": "stream",
     "text": [
      "Element is not present\n"
     ]
    }
   ],
   "source": [
    "# 'not in' keyword\n",
    "\n",
    "lst = ['one', 'two', 'three', 'four', 'five']\n",
    "if 'eight' not in lst:\n",
    "    print(\"Element is not present\")\n",
    "else:\n",
    "    print(\"Element is present\")"
   ]
  },
  {
   "cell_type": "code",
   "execution_count": 13,
   "id": "36580494",
   "metadata": {},
   "outputs": [
    {
     "name": "stdout",
     "output_type": "stream",
     "text": [
      "['five', 'four', 'three', 'two', 'one']\n"
     ]
    }
   ],
   "source": [
    "#reverse the entire list\n",
    "lst = ['one', 'two', 'three', 'four', 'five']\n",
    "lst.reverse()\n",
    "print(lst)"
   ]
  },
  {
   "cell_type": "code",
   "execution_count": 14,
   "id": "64e6c824",
   "metadata": {},
   "outputs": [
    {
     "name": "stdout",
     "output_type": "stream",
     "text": [
      "[0, 1, 2, 3, 4, 5, 7, 9]\n"
     ]
    }
   ],
   "source": [
    "#sorted \n",
    "lst = [1, 4, 3, 2, 5, 7, 9 ,0]\n",
    "sorted_lst = sorted(lst)\n",
    "print(sorted_lst)"
   ]
  },
  {
   "cell_type": "code",
   "execution_count": 15,
   "id": "990e82b0",
   "metadata": {},
   "outputs": [
    {
     "name": "stdout",
     "output_type": "stream",
     "text": [
      "[9, 7, 5, 4, 3, 2, 1, 0]\n"
     ]
    }
   ],
   "source": [
    "#reverse sorted \n",
    "lst = [1, 4, 3, 2, 5, 7, 9 ,0]\n",
    "sorted_lst = sorted(lst, reverse = True)\n",
    "print(sorted_lst)"
   ]
  },
  {
   "cell_type": "code",
   "execution_count": 18,
   "id": "d64a4a99",
   "metadata": {},
   "outputs": [
    {
     "name": "stdout",
     "output_type": "stream",
     "text": [
      "Sorted List: [0, 1, 2, 3, 4, 5, 7, 9]\n"
     ]
    }
   ],
   "source": [
    "#sort the list in itself\n",
    "lst = [1, 4, 3, 2, 5, 7, 9 ,0]\n",
    "lst.sort()\n",
    "print(\"Sorted List:\", lst)"
   ]
  },
  {
   "cell_type": "code",
   "execution_count": 19,
   "id": "d4255a30",
   "metadata": {},
   "outputs": [
    {
     "name": "stdout",
     "output_type": "stream",
     "text": [
      "4380130624\n",
      "4380130624\n",
      "Original  list: [1, 4, 3, 2, 5, 7, 9, 0, 100]\n"
     ]
    }
   ],
   "source": [
    "lst = [1, 4, 3, 2, 5, 7, 9 ,0]\n",
    "abc = lst #same memory location\n",
    "abc.append(100)\n",
    "print(id(lst))\n",
    "print(id(abc))\n",
    "print(\"Original  list:\", lst)"
   ]
  },
  {
   "cell_type": "code",
   "execution_count": 20,
   "id": "fa04a635",
   "metadata": {},
   "outputs": [
    {
     "name": "stdout",
     "output_type": "stream",
     "text": [
      "['one', 'two', 'three', 'four', 'five']\n"
     ]
    }
   ],
   "source": [
    "s = \"one#two#three#four#five\"\n",
    "slst = s.split(\"#\")\n",
    "print(slst)"
   ]
  },
  {
   "cell_type": "code",
   "execution_count": 28,
   "id": "7bb8b4f1",
   "metadata": {},
   "outputs": [
    {
     "name": "stdout",
     "output_type": "stream",
     "text": [
      "[10, 30, 50, 70, 90]\n",
      "[30, 50, 70, 90]\n",
      "[30, 50]\n",
      "[90, 80, 70, 60, 50, 40, 30, 20, 10]\n"
     ]
    }
   ],
   "source": [
    "numbers = [10 ,20 ,30, 40 ,50 ,60 ,70 ,80 ,90]\n",
    "print(numbers[::2])\n",
    "print(numbers[2::2])\n",
    "print(numbers[2:5:2])\n",
    "print(numbers[::-1])   #reverse a list"
   ]
  },
  {
   "cell_type": "code",
   "execution_count": 27,
   "id": "a5d0386b",
   "metadata": {},
   "outputs": [
    {
     "name": "stdout",
     "output_type": "stream",
     "text": [
      "[1, 2, 4, 5, 'abc', 'def', 'efg']\n"
     ]
    }
   ],
   "source": [
    "lst1 = [1 ,2, 4 ,5]\n",
    "lst2 = ['abc', 'def', 'efg']\n",
    "new_lst = lst1 + lst2\n",
    "print(new_lst)"
   ]
  },
  {
   "cell_type": "code",
   "execution_count": 30,
   "id": "8998464c",
   "metadata": {},
   "outputs": [
    {
     "name": "stdout",
     "output_type": "stream",
     "text": [
      "1\n",
      "5\n"
     ]
    }
   ],
   "source": [
    "s = \"100000\"\n",
    "print(s.count('1'))\n",
    "print(s.count('0'))"
   ]
  },
  {
   "cell_type": "code",
   "execution_count": 34,
   "id": "fa13c086",
   "metadata": {
    "scrolled": true
   },
   "outputs": [
    {
     "name": "stdout",
     "output_type": "stream",
     "text": [
      "No\n"
     ]
    }
   ],
   "source": []
  }
 ],
 "metadata": {
  "kernelspec": {
   "display_name": "Python 3 (ipykernel)",
   "language": "python",
   "name": "python3"
  },
  "language_info": {
   "codemirror_mode": {
    "name": "ipython",
    "version": 3
   },
   "file_extension": ".py",
   "mimetype": "text/x-python",
   "name": "python",
   "nbconvert_exporter": "python",
   "pygments_lexer": "ipython3",
   "version": "3.11.5"
  }
 },
 "nbformat": 4,
 "nbformat_minor": 5
}
