{
 "cells": [
  {
   "cell_type": "code",
   "execution_count": 1,
   "id": "c4504c7f",
   "metadata": {},
   "outputs": [
    {
     "name": "stdout",
     "output_type": "stream",
     "text": [
      "<class 'complex'>\n"
     ]
    }
   ],
   "source": [
    "a = 2 + 3J\n",
    "print(type(a))"
   ]
  },
  {
   "cell_type": "code",
   "execution_count": 2,
   "id": "69da04ff",
   "metadata": {},
   "outputs": [
    {
     "name": "stdout",
     "output_type": "stream",
     "text": [
      "2.5 is type of  <class 'float'>\n"
     ]
    }
   ],
   "source": [
    "a = 2.5              \n",
    "print(a, \"is type of \", type(a))   #type return the class of the object(like 'a')"
   ]
  },
  {
   "cell_type": "code",
   "execution_count": 2,
   "id": "ccbb29b6",
   "metadata": {},
   "outputs": [
    {
     "name": "stdout",
     "output_type": "stream",
     "text": [
      "True\n"
     ]
    }
   ],
   "source": [
    "a = 2 + 5J\n",
    "print(isinstance(a, complex)) # isinstance returns a boolean"
   ]
  },
  {
   "cell_type": "code",
   "execution_count": null,
   "id": "e2bb0c8c",
   "metadata": {},
   "outputs": [],
   "source": [
    "#What is a unicode and "
   ]
  },
  {
   "cell_type": "code",
   "execution_count": 6,
   "id": "37cbce9a",
   "metadata": {},
   "outputs": [
    {
     "name": "stdout",
     "output_type": "stream",
     "text": [
      "i\n",
      "g\n",
      "n\n",
      "this is a\n",
      "multi line string\n"
     ]
    }
   ],
   "source": [
    "s = \"This is a string\"\n",
    "print(s[2])\n",
    "print(s[-1])\n",
    "print(s[-2])\n",
    "\n",
    "str = \"\"\"this is a\n",
    "multi line string\"\"\"\n",
    "\n",
    "print(str)"
   ]
  },
  {
   "cell_type": "code",
   "execution_count": 12,
   "id": "2e224842",
   "metadata": {},
   "outputs": [
    {
     "name": "stdout",
     "output_type": "stream",
     "text": [
      "5\n"
     ]
    }
   ],
   "source": [
    "a = \"12345679\"\n",
    "print(a[len(a) - 4])\n",
    "#Last char s[len(s)-1] or s[-1]"
   ]
  },
  {
   "cell_type": "code",
   "execution_count": 3,
   "id": "b4e4346b",
   "metadata": {},
   "outputs": [
    {
     "name": "stdout",
     "output_type": "stream",
     "text": [
      "[10, 20.5, 'Hello', (6+7j)]\n",
      "20.5\n",
      "(6+7j)\n",
      "[10, 20.5, 'Hello', 'CHANGED']\n"
     ]
    }
   ],
   "source": [
    "List = [10, 20.5, \"Hello\", 6+7J]\n",
    "print(List)\n",
    "print(List[1])\n",
    "print(List[-1])\n",
    "\n",
    "List[-1] = \"CHANGED\"   #mutable\n",
    "\n",
    "print(List)"
   ]
  },
  {
   "cell_type": "code",
   "execution_count": 17,
   "id": "1361e0db",
   "metadata": {},
   "outputs": [
    {
     "name": "stdout",
     "output_type": "stream",
     "text": [
      "(1, 1.5, 'ML')\n"
     ]
    }
   ],
   "source": [
    "#Python Tuple - same as list but cannot be mutated\n",
    "\n",
    "tuple = (1, 1.5, \"ML\")\n",
    "print(tuple)\n",
    "# tuple[-1] = \"AI\"   cannot be modified\n",
    "# print(tuple)\n"
   ]
  },
  {
   "cell_type": "code",
   "execution_count": 20,
   "id": "b5696388",
   "metadata": {},
   "outputs": [
    {
     "name": "stdout",
     "output_type": "stream",
     "text": [
      "{50, 20, 40, 10, 30}\n"
     ]
    }
   ],
   "source": [
    "#Python Set - unordered collection of unique items. defined with braces{}\n",
    "\n",
    "set = {10, 20, 30, 40, 50}\n",
    "print(set)\n",
    "\n",
    "# print(set[2])  it will show error cause it is unordered"
   ]
  },
  {
   "cell_type": "code",
   "execution_count": 31,
   "id": "18f0c996",
   "metadata": {},
   "outputs": [
    {
     "name": "stdout",
     "output_type": "stream",
     "text": [
      "{'a': 'apple', 'b': 'bat', 12: 'hello'}\n",
      "hello\n",
      "apple\n"
     ]
    }
   ],
   "source": [
    "#python Dictionary - unorderd collection of key-value pairs. defined with braces{}. pair of Key: Value\n",
    "# key and value can be of any type\n",
    "\n",
    "Dic  = {'a': 'apple', 'b': 'bat', 12:'hello'}\n",
    "\n",
    "print(Dic)\n",
    "print(Dic[12])\n",
    "print(Dic['a'])\n"
   ]
  },
  {
   "cell_type": "code",
   "execution_count": 34,
   "id": "249d2057",
   "metadata": {},
   "outputs": [
    {
     "name": "stdout",
     "output_type": "stream",
     "text": [
      "Ravi Deo\n",
      "2023458249\n",
      "CSA\n"
     ]
    }
   ],
   "source": [
    "StudentDetail = {\n",
    "    \"Name\": \"Ravi Deo\",\n",
    "    \"System ID\": \"2023458249\",\n",
    "    \"Section\": \"CSA\"\n",
    "}\n",
    "print(StudentDetail[\"Name\"])\n",
    "print(StudentDetail[\"System ID\"])\n",
    "print(StudentDetail[\"Section\"])"
   ]
  },
  {
   "cell_type": "code",
   "execution_count": 35,
   "id": "9f86ea42",
   "metadata": {},
   "outputs": [
    {
     "data": {
      "text/plain": [
       "100"
      ]
     },
     "execution_count": 35,
     "metadata": {},
     "output_type": "execute_result"
    }
   ],
   "source": [
    "#Conversion Between Data Types\n",
    "#seach on implicit and explicit type casting\n",
    "\n",
    "int(100.5)"
   ]
  },
  {
   "cell_type": "code",
   "execution_count": 38,
   "id": "a698dc6e",
   "metadata": {},
   "outputs": [
    {
     "data": {
      "text/plain": [
       "10"
      ]
     },
     "execution_count": 38,
     "metadata": {},
     "output_type": "execute_result"
    }
   ],
   "source": [
    "#int('10p') it won't work cause of compatiblity\n",
    "\n",
    "int('10')"
   ]
  },
  {
   "cell_type": "code",
   "execution_count": 40,
   "id": "80c44af6",
   "metadata": {
    "scrolled": true
   },
   "outputs": [
    {
     "name": "stdout",
     "output_type": "stream",
     "text": [
      "Congratulation, Ravi! You have just wrote 0 of code\n"
     ]
    }
   ],
   "source": [
    "user = \"Ravi\"\n",
    "lines = 0\n",
    "\n",
    "print(f\"Congratulation, {user}! You have just wrote {lines} of code\")"
   ]
  },
  {
   "cell_type": "code",
   "execution_count": 5,
   "id": "aa9b20d1",
   "metadata": {},
   "outputs": [
    {
     "name": "stdout",
     "output_type": "stream",
     "text": [
      "['H', 'e', 'l', 'l', 'o']\n"
     ]
    }
   ],
   "source": [
    "lst = \"Hello\"\n",
    "print(list(lst))"
   ]
  }
 ],
 "metadata": {
  "kernelspec": {
   "display_name": "Python 3 (ipykernel)",
   "language": "python",
   "name": "python3"
  },
  "language_info": {
   "codemirror_mode": {
    "name": "ipython",
    "version": 3
   },
   "file_extension": ".py",
   "mimetype": "text/x-python",
   "name": "python",
   "nbconvert_exporter": "python",
   "pygments_lexer": "ipython3",
   "version": "3.11.7"
  }
 },
 "nbformat": 4,
 "nbformat_minor": 5
}
