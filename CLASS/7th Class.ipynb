{
 "cells": [
  {
   "cell_type": "code",
   "execution_count": 1,
   "id": "2376006c",
   "metadata": {},
   "outputs": [
    {
     "name": "stdout",
     "output_type": "stream",
     "text": [
      "[1, 3, 5, 7, 9]\n"
     ]
    }
   ],
   "source": [
    "#create a list using loop\n",
    "my_list = list(range(1, 11, 2))\n",
    "print(my_list)"
   ]
  },
  {
   "cell_type": "code",
   "execution_count": 2,
   "id": "fb3048c3",
   "metadata": {},
   "outputs": [
    {
     "name": "stdout",
     "output_type": "stream",
     "text": [
      "Enter number of elements: 4\n",
      "Input Element: 2\n",
      "Input Element: 5\n",
      "Input Element: 7\n",
      "Input Element: 9\n",
      "[2, 5, 7, 9]\n"
     ]
    }
   ],
   "source": [
    "#creating an enpty list\n",
    "\n",
    "lst = []\n",
    "\n",
    "n = int(input(\"Enter number of elements: \"))\n",
    "\n",
    "for i in range(0, n):\n",
    "    element = int(input(\"Input Element: \"))\n",
    "    lst.append(element)\n",
    "    \n",
    "print(lst)"
   ]
  },
  {
   "cell_type": "code",
   "execution_count": 5,
   "id": "e108e8d6",
   "metadata": {},
   "outputs": [
    {
     "name": "stdout",
     "output_type": "stream",
     "text": [
      "Number of elemets: 4\n",
      "Input Element: 2\n",
      "Input Element: 5\n",
      "Input Element: 7\n",
      "Input Element: 4\n",
      "6\n",
      "12\n"
     ]
    }
   ],
   "source": [
    "# sum of odd and even numbers\n",
    "\n",
    "sumE = 0\n",
    "sumO = 0\n",
    "\n",
    "n = int(input(\"Number of elemets: \"))\n",
    "\n",
    "for i in range(0, n):\n",
    "    elements = int(input(\"Input Element: \"))\n",
    "    \n",
    "    if elements % 2 == 0:\n",
    "        sumE += elements\n",
    "    else:\n",
    "        sumO += elements     \n",
    "    \n",
    "print(sumE)\n",
    "print(sumO)"
   ]
  }
 ],
 "metadata": {
  "kernelspec": {
   "display_name": "Python 3 (ipykernel)",
   "language": "python",
   "name": "python3"
  },
  "language_info": {
   "codemirror_mode": {
    "name": "ipython",
    "version": 3
   },
   "file_extension": ".py",
   "mimetype": "text/x-python",
   "name": "python",
   "nbconvert_exporter": "python",
   "pygments_lexer": "ipython3",
   "version": "3.11.5"
  }
 },
 "nbformat": 4,
 "nbformat_minor": 5
}
