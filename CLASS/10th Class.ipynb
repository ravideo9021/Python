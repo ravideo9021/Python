{
 "cells": [
  {
   "cell_type": "code",
   "execution_count": null,
   "id": "3e575cf4",
   "metadata": {},
   "outputs": [
    {
     "name": "stdout",
     "output_type": "stream",
     "text": [
      "y/n: y\n",
      "What is Your First Name? Ravi\n",
      "What is Your Name last? Deo\n",
      "Age: 20\n",
      "y/n: y\n",
      "What is Your First Name? Yash\n",
      "What is Your Name last? Manav\n",
      "Age: 19\n",
      "y/n: y\n",
      "What is Your First Name? Kundan\n",
      "What is Your Name last? Kumar\n",
      "Age: 18\n",
      "y/n: Rahul\n"
     ]
    },
    {
     "name": "stderr",
     "output_type": "stream",
     "text": [
      "IOPub data rate exceeded.\n",
      "The notebook server will temporarily stop sending output\n",
      "to the client in order to avoid crashing it.\n",
      "To change this limit, set the config variable\n",
      "`--NotebookApp.iopub_data_rate_limit`.\n",
      "\n",
      "Current values:\n",
      "NotebookApp.iopub_data_rate_limit=1000000.0 (bytes/sec)\n",
      "NotebookApp.rate_limit_window=3.0 (secs)\n",
      "\n"
     ]
    }
   ],
   "source": [
    "names = []\n",
    "ages = []\n",
    "eligiblity = []\n",
    "\n",
    "c = 0\n",
    "\n",
    "while True:\n",
    "    \n",
    "        newEntry = input(\"y/n: \")\n",
    "        \n",
    "        if newEntry == 'y':\n",
    "            pass\n",
    "        else:\n",
    "            break;\n",
    "            \n",
    "        firstName = input(\"What is Your First Name? \")\n",
    "        lastName = input(\"What is Your Name last? \")\n",
    "        age = int(input(\"Age: \"))\n",
    "\n",
    "        fullName = firstName + ' ' + lastName\n",
    "        names.append(fullName)\n",
    "        ages.append(age)\n",
    "        \n",
    "        if age >=18:\n",
    "            eligiblity.append('Yes')\n",
    "        else:\n",
    "            eligiblity.append('No')\n",
    "        \n",
    "        c+=1\n",
    "        \n",
    "print(\"Name \\tAge \\tEligiblity\")\n",
    "\n",
    "if c != 0:\n",
    "    i = 0\n",
    "    while i <=c:\n",
    "            print(f\"{names} \\t{ages} \\t{eligiblity}\")\n",
    "            i\n",
    "else:\n",
    "    print(\"No Entry\")"
   ]
  }
 ],
 "metadata": {
  "kernelspec": {
   "display_name": "Python 3 (ipykernel)",
   "language": "python",
   "name": "python3"
  },
  "language_info": {
   "codemirror_mode": {
    "name": "ipython",
    "version": 3
   },
   "file_extension": ".py",
   "mimetype": "text/x-python",
   "name": "python",
   "nbconvert_exporter": "python",
   "pygments_lexer": "ipython3",
   "version": "3.11.5"
  }
 },
 "nbformat": 4,
 "nbformat_minor": 5
}
