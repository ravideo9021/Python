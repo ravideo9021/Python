{
 "cells": [
  {
   "cell_type": "code",
   "execution_count": 1,
   "id": "4a67912f",
   "metadata": {},
   "outputs": [
    {
     "name": "stdout",
     "output_type": "stream",
     "text": [
      "<class 'complex'>\n"
     ]
    }
   ],
   "source": [
    "a = 2 + 3J\n",
    "print(type(a))"
   ]
  },
  {
   "cell_type": "code",
   "execution_count": 2,
   "id": "37965c14",
   "metadata": {},
   "outputs": [
    {
     "name": "stdout",
     "output_type": "stream",
     "text": [
      "2.5 is type of  <class 'float'>\n"
     ]
    }
   ],
   "source": [
    "a = 2.5              \n",
    "print(a, \"is type of \", type(a))   #type return the class of the object(like 'a')"
   ]
  },
  {
   "cell_type": "code",
   "execution_count": 3,
   "id": "2682897f",
   "metadata": {},
   "outputs": [
    {
     "name": "stdout",
     "output_type": "stream",
     "text": [
      "True\n"
     ]
    }
   ],
   "source": [
    "a = 2 + 5J\n",
    "print(isinstance(a, complex)) # isinstance returns a boolean"
   ]
  },
  {
   "cell_type": "code",
   "execution_count": null,
   "id": "38dc8272",
   "metadata": {},
   "outputs": [],
   "source": [
    "#What is a unicode and "
   ]
  },
  {
   "cell_type": "code",
   "execution_count": 6,
   "id": "7f2e4869",
   "metadata": {},
   "outputs": [
    {
     "name": "stdout",
     "output_type": "stream",
     "text": [
      "i\n",
      "g\n",
      "n\n",
      "this is a\n",
      "multi line string\n"
     ]
    }
   ],
   "source": [
    "s = \"This is a string\"\n",
    "print(s[2])\n",
    "print(s[-1])\n",
    "print(s[-2])\n",
    "\n",
    "str = \"\"\"this is a\n",
    "multi line string\"\"\"\n",
    "\n",
    "print(str)"
   ]
  },
  {
   "cell_type": "code",
   "execution_count": 12,
   "id": "7a5a1929",
   "metadata": {},
   "outputs": [
    {
     "name": "stdout",
     "output_type": "stream",
     "text": [
      "5\n"
     ]
    }
   ],
   "source": [
    "a = \"12345679\"\n",
    "print(a[len(a) - 4])\n",
    "#Last char s[len(s)-1] or s[-1]"
   ]
  },
  {
   "cell_type": "code",
   "execution_count": 44,
   "id": "cef64843",
   "metadata": {},
   "outputs": [
    {
     "name": "stdout",
     "output_type": "stream",
     "text": [
      "[10, 20.5, 'Hello', (6+7j)]\n",
      "20.5\n",
      "(6+7j)\n",
      "[10, 20.5, 'Hello', 'CHANGED']\n"
     ]
    }
   ],
   "source": [
    "List = [10, 20.5, \"Hello\", 6+7J]\n",
    "print(List)\n",
    "print(List[1])\n",
    "print(List[-1])\n",
    "\n",
    "List[-1] = \"CHANGED\"   #mutable\n",
    "\n",
    "print(List)"
   ]
  },
  {
   "cell_type": "code",
   "execution_count": 17,
   "id": "c412bcfe",
   "metadata": {},
   "outputs": [
    {
     "name": "stdout",
     "output_type": "stream",
     "text": [
      "(1, 1.5, 'ML')\n"
     ]
    }
   ],
   "source": [
    "#Python Tuple - same as list but cannot be mutated\n",
    "\n",
    "tuple = (1, 1.5, \"ML\")\n",
    "print(tuple)\n",
    "# tuple[-1] = \"AI\"   cannot be modified\n",
    "# print(tuple)\n"
   ]
  },
  {
   "cell_type": "code",
   "execution_count": 20,
   "id": "5ba51189",
   "metadata": {},
   "outputs": [
    {
     "name": "stdout",
     "output_type": "stream",
     "text": [
      "{50, 20, 40, 10, 30}\n"
     ]
    }
   ],
   "source": [
    "#Python Set - unordered collection of unique items. defined with braces{}\n",
    "\n",
    "set = {10, 20, 30, 40, 50}\n",
    "print(set)\n",
    "\n",
    "# print(set[2])  it will show error cause it is unordered"
   ]
  },
  {
   "cell_type": "code",
   "execution_count": 31,
   "id": "f39c6fc3",
   "metadata": {},
   "outputs": [
    {
     "name": "stdout",
     "output_type": "stream",
     "text": [
      "{'a': 'apple', 'b': 'bat', 12: 'hello'}\n",
      "hello\n",
      "apple\n"
     ]
    }
   ],
   "source": [
    "#python Dictionary - unorderd collection of key-value pairs. defined with braces{}. pair of Key: Value\n",
    "# key and value can be of any type\n",
    "\n",
    "Dic  = {'a': 'apple', 'b': 'bat', 12:'hello'}\n",
    "\n",
    "print(Dic)\n",
    "print(Dic[12])\n",
    "print(Dic['a'])\n"
   ]
  },
  {
   "cell_type": "code",
   "execution_count": 34,
   "id": "4e526f42",
   "metadata": {},
   "outputs": [
    {
     "name": "stdout",
     "output_type": "stream",
     "text": [
      "Ravi Deo\n",
      "2023458249\n",
      "CSA\n"
     ]
    }
   ],
   "source": [
    "StudentDetail = {\n",
    "    \"Name\": \"Ravi Deo\",\n",
    "    \"System ID\": \"2023458249\",\n",
    "    \"Section\": \"CSA\"\n",
    "}\n",
    "print(StudentDetail[\"Name\"])\n",
    "print(StudentDetail[\"System ID\"])\n",
    "print(StudentDetail[\"Section\"])"
   ]
  },
  {
   "cell_type": "code",
   "execution_count": 35,
   "id": "ffd0af64",
   "metadata": {},
   "outputs": [
    {
     "data": {
      "text/plain": [
       "100"
      ]
     },
     "execution_count": 35,
     "metadata": {},
     "output_type": "execute_result"
    }
   ],
   "source": [
    "#Conversion Between Data Types\n",
    "#seach on implicit and explicit type casting\n",
    "\n",
    "int(100.5)"
   ]
  },
  {
   "cell_type": "code",
   "execution_count": 38,
   "id": "5a2cc773",
   "metadata": {},
   "outputs": [
    {
     "data": {
      "text/plain": [
       "10"
      ]
     },
     "execution_count": 38,
     "metadata": {},
     "output_type": "execute_result"
    }
   ],
   "source": [
    "#int('10p') it won't work cause of compatiblity\n",
    "\n",
    "int('10')"
   ]
  },
  {
   "cell_type": "code",
   "execution_count": 40,
   "id": "f23a8d9f",
   "metadata": {},
   "outputs": [
    {
     "name": "stdout",
     "output_type": "stream",
     "text": [
      "Congratulation, Ravi! You have just wrote 0 of code\n"
     ]
    }
   ],
   "source": [
    "user = \"Ravi\"\n",
    "lines = 0\n",
    "\n",
    "print(f\"Congratulation, {user}! You have just wrote {lines} of code\")"
   ]
  },
  {
   "cell_type": "code",
   "execution_count": 43,
   "id": "8fae2191",
   "metadata": {},
   "outputs": [
    {
     "ename": "TypeError",
     "evalue": "'list' object is not callable",
     "output_type": "error",
     "traceback": [
      "\u001b[0;31m---------------------------------------------------------------------------\u001b[0m",
      "\u001b[0;31mTypeError\u001b[0m                                 Traceback (most recent call last)",
      "Cell \u001b[0;32mIn[43], line 1\u001b[0m\n\u001b[0;32m----> 1\u001b[0m \u001b[38;5;28mlist\u001b[39m(\u001b[38;5;124m\"\u001b[39m\u001b[38;5;124mHello\u001b[39m\u001b[38;5;124m\"\u001b[39m)\n",
      "\u001b[0;31mTypeError\u001b[0m: 'list' object is not callable"
     ]
    }
   ],
   "source": [
    "list(\"Hello\")"
   ]
  }
 ],
 "metadata": {
  "kernelspec": {
   "display_name": "Python 3 (ipykernel)",
   "language": "python",
   "name": "python3"
  },
  "language_info": {
   "codemirror_mode": {
    "name": "ipython",
    "version": 3
   },
   "file_extension": ".py",
   "mimetype": "text/x-python",
   "name": "python",
   "nbconvert_exporter": "python",
   "pygments_lexer": "ipython3",
   "version": "3.11.5"
  }
 },
 "nbformat": 4,
 "nbformat_minor": 5
}
