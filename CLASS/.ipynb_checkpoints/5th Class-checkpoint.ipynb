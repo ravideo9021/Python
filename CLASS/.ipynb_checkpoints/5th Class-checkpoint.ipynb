{
 "cells": [
  {
   "cell_type": "code",
   "execution_count": 1,
   "id": "e0048349",
   "metadata": {},
   "outputs": [
    {
     "name": "stdout",
     "output_type": "stream",
     "text": [
      "Age: 19\n",
      "Eligible\n"
     ]
    }
   ],
   "source": [
    "age = int(input(\"Age: \"))\n",
    "\n",
    "if age >= 18:\n",
    "    print(\"Eligible\")\n",
    "    \n",
    "else:\n",
    "    print(\"Not Eligible\")"
   ]
  },
  {
   "cell_type": "code",
   "execution_count": 3,
   "id": "8ec3655f",
   "metadata": {},
   "outputs": [
    {
     "name": "stdout",
     "output_type": "stream",
     "text": [
      "Age: 19\n",
      "You can vote\n"
     ]
    }
   ],
   "source": [
    "age = int(input(\"Age: \"))\n",
    "\n",
    "message = \"You can vote\" if age >= 18 else \"You Can't\"\n",
    "\n",
    "print(message)"
   ]
  },
  {
   "cell_type": "code",
   "execution_count": 4,
   "id": "7bfb07c8",
   "metadata": {},
   "outputs": [
    {
     "name": "stdout",
     "output_type": "stream",
     "text": [
      "Eligible\n"
     ]
    }
   ],
   "source": [
    "print(\"Eligible\") if age >= 18 else print(\"Not Eligible\")"
   ]
  },
  {
   "cell_type": "code",
   "execution_count": 7,
   "id": "255e8518",
   "metadata": {},
   "outputs": [
    {
     "name": "stdout",
     "output_type": "stream",
     "text": [
      "Marks: 20\n",
      "FAIL\n"
     ]
    }
   ],
   "source": [
    "marks = int(input(\"Marks: \"))\n",
    "\n",
    "if 90 < marks <= 100:\n",
    "    print(\"A\")\n",
    "elif 80 < marks <= 90:\n",
    "    print(\"B\")\n",
    "elif 70 < marks <= 60:\n",
    "    print(\"C\")\n",
    "else:\n",
    "    print(\"FAIL\")"
   ]
  },
  {
   "cell_type": "code",
   "execution_count": 10,
   "id": "0b31df34",
   "metadata": {},
   "outputs": [
    {
     "name": "stdout",
     "output_type": "stream",
     "text": [
      "Age: 0\n",
      "Invalid Age\n"
     ]
    }
   ],
   "source": [
    "age = int(input(\"Age: \"))\n",
    "\n",
    "if age <= 0:\n",
    "    print(\"Invalid Age\")\n",
    "elif 0 < age < 18:\n",
    "    print(\"Not Eligible to Vote\")\n",
    "else:\n",
    "    print(\"Eligible to Vote\")"
   ]
  },
  {
   "cell_type": "code",
   "execution_count": 13,
   "id": "f13f6cc8",
   "metadata": {},
   "outputs": [
    {
     "name": "stdout",
     "output_type": "stream",
     "text": [
      "Collecting pyfiglet\n",
      "  Obtaining dependency information for pyfiglet from https://files.pythonhosted.org/packages/1a/03/bef6fff907e212d67a0003f8ea4819307bba91b2856074a0763dd483ccc4/pyfiglet-1.0.2-py3-none-any.whl.metadata\n",
      "  Downloading pyfiglet-1.0.2-py3-none-any.whl.metadata (7.1 kB)\n",
      "Downloading pyfiglet-1.0.2-py3-none-any.whl (1.1 MB)\n",
      "\u001b[2K   \u001b[90m━━━━━━━━━━━━━━━━━━━━━━━━━━━━━━━━━━━━━━━━\u001b[0m \u001b[32m1.1/1.1 MB\u001b[0m \u001b[31m3.3 MB/s\u001b[0m eta \u001b[36m0:00:00\u001b[0ma \u001b[36m0:00:01\u001b[0m\n",
      "\u001b[?25hInstalling collected packages: pyfiglet\n",
      "Successfully installed pyfiglet-1.0.2\n",
      "Note: you may need to restart the kernel to use updated packages.\n"
     ]
    }
   ],
   "source": [
    "pip install pyfiglet"
   ]
  }
 ],
 "metadata": {
  "kernelspec": {
   "display_name": "Python 3 (ipykernel)",
   "language": "python",
   "name": "python3"
  },
  "language_info": {
   "codemirror_mode": {
    "name": "ipython",
    "version": 3
   },
   "file_extension": ".py",
   "mimetype": "text/x-python",
   "name": "python",
   "nbconvert_exporter": "python",
   "pygments_lexer": "ipython3",
   "version": "3.11.5"
  }
 },
 "nbformat": 4,
 "nbformat_minor": 5
}
