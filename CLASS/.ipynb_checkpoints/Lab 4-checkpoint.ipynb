{
 "cells": [
  {
   "cell_type": "code",
   "execution_count": null,
   "id": "4d6ef686",
   "metadata": {},
   "outputs": [],
   "source": [
    "#Set is a collection tha tis unorderd , unchangeble, and unindexed.\n",
    "\n",
    "#set items can appear in different order every time you use them, and cannot be reffered to by index or key"
   ]
  }
 ],
 "metadata": {
  "kernelspec": {
   "display_name": "Python 3 (ipykernel)",
   "language": "python",
   "name": "python3"
  },
  "language_info": {
   "codemirror_mode": {
    "name": "ipython",
    "version": 3
   },
   "file_extension": ".py",
   "mimetype": "text/x-python",
   "name": "python",
   "nbconvert_exporter": "python",
   "pygments_lexer": "ipython3",
   "version": "3.11.5"
  }
 },
 "nbformat": 4,
 "nbformat_minor": 5
}
