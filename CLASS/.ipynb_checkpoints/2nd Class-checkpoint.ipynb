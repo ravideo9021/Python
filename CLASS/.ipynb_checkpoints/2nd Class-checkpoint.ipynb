{
 "cells": [
  {
   "cell_type": "code",
   "execution_count": 4,
   "id": "885939ae",
   "metadata": {
    "scrolled": true
   },
   "outputs": [
    {
     "name": "stdout",
     "output_type": "stream",
     "text": [
      "10\n",
      "20\n",
      "RAVI\n"
     ]
    }
   ],
   "source": [
    "a, b, c = 10, 20, 'RAVI'\n",
    "print(a)\n",
    "print(b)\n",
    "print(c)"
   ]
  },
  {
   "cell_type": "code",
   "execution_count": 5,
   "id": "c7d79c18",
   "metadata": {
    "scrolled": true
   },
   "outputs": [
    {
     "name": "stdout",
     "output_type": "stream",
     "text": [
      "4368754168\n"
     ]
    }
   ],
   "source": [
    "x = 10\n",
    "print(id(x)) #id means the address of the variable"
   ]
  },
  {
   "cell_type": "code",
   "execution_count": 5,
   "id": "fcf05d8a",
   "metadata": {},
   "outputs": [
    {
     "name": "stdout",
     "output_type": "stream",
     "text": [
      "4336706840\n",
      "4336706840\n"
     ]
    }
   ],
   "source": [
    "a = 3\n",
    "b = 3\n",
    "print(id(a))\n",
    "print(id(b))"
   ]
  },
  {
   "cell_type": "code",
   "execution_count": 8,
   "id": "828fdd3a",
   "metadata": {},
   "outputs": [
    {
     "name": "stdout",
     "output_type": "stream",
     "text": [
      "5 is type of <class 'int'>\n"
     ]
    }
   ],
   "source": [
    "a = 5 #python is a object oriented language, and objects are in class. data type = class, value = object\n",
    "print(a, \"is type of\", type(a)) \n"
   ]
  },
  {
   "cell_type": "code",
   "execution_count": 9,
   "id": "07ea2457",
   "metadata": {},
   "outputs": [
    {
     "name": "stdout",
     "output_type": "stream",
     "text": [
      "True\n"
     ]
    }
   ],
   "source": [
    "a = 2 + 3J \n",
    "b = 12\n",
    "print(isinstance(a, complex)) #isinstance returns True or False"
   ]
  },
  {
   "cell_type": "code",
   "execution_count": 11,
   "id": "d74f21d9",
   "metadata": {},
   "outputs": [
    {
     "name": "stdout",
     "output_type": "stream",
     "text": [
      "True\n"
     ]
    }
   ],
   "source": [
    "b = True\n",
    "print(isinstance(b, bool))"
   ]
  },
  {
   "cell_type": "code",
   "execution_count": 1,
   "id": "dd8f3676",
   "metadata": {},
   "outputs": [
    {
     "data": {
      "text/plain": [
       "['H', 'e', 'l', 'l', 'o']"
      ]
     },
     "execution_count": 1,
     "metadata": {},
     "output_type": "execute_result"
    }
   ],
   "source": [
    "list(\"Hello\")"
   ]
  },
  {
   "cell_type": "code",
   "execution_count": 4,
   "id": "d2597dbc",
   "metadata": {},
   "outputs": [
    {
     "name": "stdout",
     "output_type": "stream",
     "text": [
      "(5+0j)\n"
     ]
    }
   ],
   "source": [
    "x = 5\n",
    "print(complex(x))"
   ]
  }
 ],
 "metadata": {
  "kernelspec": {
   "display_name": "Python 3 (ipykernel)",
   "language": "python",
   "name": "python3"
  },
  "language_info": {
   "codemirror_mode": {
    "name": "ipython",
    "version": 3
   },
   "file_extension": ".py",
   "mimetype": "text/x-python",
   "name": "python",
   "nbconvert_exporter": "python",
   "pygments_lexer": "ipython3",
   "version": "3.11.5"
  }
 },
 "nbformat": 4,
 "nbformat_minor": 5
}
