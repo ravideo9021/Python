{
 "cells": [
  {
   "cell_type": "code",
   "execution_count": 1,
   "id": "d40e95c1",
   "metadata": {},
   "outputs": [
    {
     "data": {
      "text/plain": [
       "str"
      ]
     },
     "execution_count": 1,
     "metadata": {},
     "output_type": "execute_result"
    }
   ],
   "source": [
    "tpl = ('Ravi')\n",
    "type(tpl)"
   ]
  },
  {
   "cell_type": "code",
   "execution_count": 2,
   "id": "72ee8ec7",
   "metadata": {},
   "outputs": [
    {
     "data": {
      "text/plain": [
       "tuple"
      ]
     },
     "execution_count": 2,
     "metadata": {},
     "output_type": "execute_result"
    }
   ],
   "source": [
    "tpl = ('Ravi',)\n",
    "type(tpl)"
   ]
  },
  {
   "cell_type": "code",
   "execution_count": 3,
   "id": "5946d894",
   "metadata": {},
   "outputs": [
    {
     "data": {
      "text/plain": [
       "tuple"
      ]
     },
     "execution_count": 3,
     "metadata": {},
     "output_type": "execute_result"
    }
   ],
   "source": [
    "tpl = 'Ravi',\n",
    "type(tpl)"
   ]
  },
  {
   "cell_type": "code",
   "execution_count": 5,
   "id": "4575bd25",
   "metadata": {},
   "outputs": [
    {
     "name": "stdout",
     "output_type": "stream",
     "text": [
      "Akash\n"
     ]
    }
   ],
   "source": [
    "tpl = ('ABC', ('Ravi', 'Yash', 'Akash'))\n",
    "print(tpl[1][2])"
   ]
  },
  {
   "cell_type": "code",
   "execution_count": 9,
   "id": "0888cf9c",
   "metadata": {},
   "outputs": [
    {
     "name": "stdout",
     "output_type": "stream",
     "text": [
      "(4, 5, 6)\n",
      "(2, 4, 5, 6)\n",
      "(10, 6, 4)\n",
      "(2, 4, 5, 6, 8, 10)\n"
     ]
    }
   ],
   "source": [
    "tpl = (2, 4, 5, 6, 8 ,10)\n",
    "\n",
    "print(tpl[1:4])\n",
    "print(tpl[:-2])\n",
    "print(tpl[::-2])\n",
    "print(tpl[:])"
   ]
  },
  {
   "cell_type": "code",
   "execution_count": 10,
   "id": "d5274e3d",
   "metadata": {},
   "outputs": [
    {
     "name": "stdout",
     "output_type": "stream",
     "text": [
      "(1, 3, 5, 6, 7, 9)\n"
     ]
    }
   ],
   "source": [
    "#concatinating Tuple\n",
    "\n",
    "tpl = (1, 3 ,5) + (6, 7, 9)\n",
    "print(tpl)"
   ]
  },
  {
   "cell_type": "code",
   "execution_count": 13,
   "id": "8f31d473",
   "metadata": {},
   "outputs": [
    {
     "name": "stdout",
     "output_type": "stream",
     "text": [
      "('Ravi', 'Ravi', 'Ravi', 'Ravi')\n"
     ]
    }
   ],
   "source": [
    "#repeat the element in a tuple for given number of time\n",
    "\n",
    "tpl = (('Ravi', ) * 4)\n",
    "print(tpl)"
   ]
  },
  {
   "cell_type": "code",
   "execution_count": 14,
   "id": "b87f607f",
   "metadata": {},
   "outputs": [],
   "source": [
    "# cannot delete an element in tuple\n",
    "\n",
    "tupl = ('Ravi' ,'Akash', 'Yash', 'Aditya')\n",
    "\n",
    "del tupl"
   ]
  },
  {
   "cell_type": "code",
   "execution_count": 22,
   "id": "5224f0af",
   "metadata": {
    "scrolled": true
   },
   "outputs": [
    {
     "name": "stdout",
     "output_type": "stream",
     "text": [
      "Count 1: 4\n",
      "index of 7: 4\n",
      "Count 'Ravi': 3\n",
      "8 not in tpl1: False\n"
     ]
    }
   ],
   "source": [
    "# we can count the frequency of an element in tuple\n",
    "\n",
    "tpl1 = (1, 5, 1 ,6 ,7, 2, 1, 5, 7, 8 ,1, 9)\n",
    "tpl2 = ('Ravi' ,'Akash', 'Ravi', 'Yash' ,'Ravi' ,'Akash')\n",
    "\n",
    "print(\"Count 1:\", tpl1.count(1))\n",
    "\n",
    "print(\"index of 7:\", tpl1.index(7)) #provide the index of element\n",
    "\n",
    "print(\"Count 'Ravi':\", tpl2.count('Ravi'))\n",
    "\n",
    "print(\"8 not in tpl1:\", 8 not in tpl1)"
   ]
  },
  {
   "cell_type": "code",
   "execution_count": 24,
   "id": "fd577f7d",
   "metadata": {},
   "outputs": [
    {
     "name": "stdout",
     "output_type": "stream",
     "text": [
      "[9, 7, 5, 4, 2, 1]\n"
     ]
    }
   ],
   "source": [
    "tpl = (4, 5, 1, 7, 9 ,2)\n",
    "print(sorted(tpl ,reverse = True))"
   ]
  },
  {
   "cell_type": "code",
   "execution_count": 27,
   "id": "187caab6",
   "metadata": {},
   "outputs": [
    {
     "ename": "AttributeError",
     "evalue": "'tuple' object has no attribute 'sort'",
     "output_type": "error",
     "traceback": [
      "\u001b[0;31m---------------------------------------------------------------------------\u001b[0m",
      "\u001b[0;31mAttributeError\u001b[0m                            Traceback (most recent call last)",
      "Cell \u001b[0;32mIn[27], line 2\u001b[0m\n\u001b[1;32m      1\u001b[0m tpl \u001b[38;5;241m=\u001b[39m (\u001b[38;5;241m4\u001b[39m, \u001b[38;5;241m5\u001b[39m, \u001b[38;5;241m1\u001b[39m, \u001b[38;5;241m7\u001b[39m, \u001b[38;5;241m9\u001b[39m ,\u001b[38;5;241m2\u001b[39m)\n\u001b[0;32m----> 2\u001b[0m tpl\u001b[38;5;241m.\u001b[39msort()\n\u001b[1;32m      3\u001b[0m \u001b[38;5;28mprint\u001b[39m(tpl)\n",
      "\u001b[0;31mAttributeError\u001b[0m: 'tuple' object has no attribute 'sort'"
     ]
    }
   ],
   "source": [
    "#sort the tuple in itself\n",
    "tpl = (4, 5, 1, 7, 9 ,2)\n",
    "tpl.sort()\n",
    "print(tpl)"
   ]
  },
  {
   "cell_type": "code",
   "execution_count": 36,
   "id": "3c5b9765",
   "metadata": {},
   "outputs": [
    {
     "name": "stdout",
     "output_type": "stream",
     "text": [
      "Minimum: 1\n",
      "Maximum: 9\n",
      "Sum = 28\n"
     ]
    }
   ],
   "source": [
    "tpl = (4, 5, 1, 7, 9, 2)\n",
    "print(\"Minimum:\", min(tpl))\n",
    "print(\"Maximum:\", max(tpl))\n",
    "print(\"Sum =\", sum(tpl))"
   ]
  },
  {
   "cell_type": "code",
   "execution_count": 37,
   "id": "5b63b657",
   "metadata": {},
   "outputs": [
    {
     "name": "stdout",
     "output_type": "stream",
     "text": [
      "10\n"
     ]
    }
   ],
   "source": [
    "#Find sum till 9 without index\n",
    "tpl = (2, 3, 5 ,7, 9, 8 ,4 ,3)\n"
   ]
  }
 ],
 "metadata": {
  "kernelspec": {
   "display_name": "Python 3 (ipykernel)",
   "language": "python",
   "name": "python3"
  },
  "language_info": {
   "codemirror_mode": {
    "name": "ipython",
    "version": 3
   },
   "file_extension": ".py",
   "mimetype": "text/x-python",
   "name": "python",
   "nbconvert_exporter": "python",
   "pygments_lexer": "ipython3",
   "version": "3.11.5"
  }
 },
 "nbformat": 4,
 "nbformat_minor": 5
}
