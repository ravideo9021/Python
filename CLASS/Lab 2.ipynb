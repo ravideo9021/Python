{
 "cells": [
  {
   "cell_type": "code",
   "execution_count": 1,
   "id": "3690f0ee",
   "metadata": {},
   "outputs": [
    {
     "name": "stdout",
     "output_type": "stream",
     "text": [
      "TRUE\n"
     ]
    }
   ],
   "source": [
    "if -12:\n",
    "    print(\"TRUE\")\n",
    "else:\n",
    "    print(\"False\")"
   ]
  },
  {
   "cell_type": "code",
   "execution_count": 2,
   "id": "3e18bb66",
   "metadata": {},
   "outputs": [
    {
     "name": "stdout",
     "output_type": "stream",
     "text": [
      "False\n"
     ]
    }
   ],
   "source": [
    "if 0:\n",
    "    print(\"TRUE\")\n",
    "else:\n",
    "    print(\"False\")\n"
   ]
  },
  {
   "cell_type": "code",
   "execution_count": 3,
   "id": "ef37a11c",
   "metadata": {},
   "outputs": [
    {
     "name": "stdout",
     "output_type": "stream",
     "text": [
      "TRUE\n"
     ]
    }
   ],
   "source": [
    "if 1:\n",
    "    print(\"TRUE\")\n",
    "else:\n",
    "    print(\"False\")"
   ]
  },
  {
   "cell_type": "code",
   "execution_count": 4,
   "id": "768a1973",
   "metadata": {},
   "outputs": [
    {
     "name": "stdout",
     "output_type": "stream",
     "text": [
      "TRUE\n"
     ]
    }
   ],
   "source": [
    "if True:\n",
    "    print(\"TRUE\")\n",
    "else:\n",
    "    print(\"False\")"
   ]
  },
  {
   "cell_type": "code",
   "execution_count": 5,
   "id": "7513c434",
   "metadata": {},
   "outputs": [
    {
     "name": "stdout",
     "output_type": "stream",
     "text": [
      "False\n"
     ]
    }
   ],
   "source": [
    "if False:\n",
    "    print(\"TRUE\")\n",
    "else:\n",
    "    print(\"False\")"
   ]
  },
  {
   "cell_type": "code",
   "execution_count": 6,
   "id": "8b750670",
   "metadata": {},
   "outputs": [],
   "source": [
    "if 1:\n",
    "    pass\n",
    "else:\n",
    "    print(\"False\")"
   ]
  },
  {
   "cell_type": "code",
   "execution_count": 7,
   "id": "24d02e07",
   "metadata": {},
   "outputs": [
    {
     "name": "stdout",
     "output_type": "stream",
     "text": [
      "Enter a Number: 2\n",
      "You have entered +ve Number\n"
     ]
    }
   ],
   "source": [
    "num = int(input(\"Enter a Number: \"))\n",
    "\n",
    "if num > 0:\n",
    "    print(\"You have entered +ve Number\")\n",
    "elif num < 0:\n",
    "    print(\"You have entered -ve Number\")\n",
    "else:\n",
    "    print(\"Zero\")"
   ]
  },
  {
   "cell_type": "code",
   "execution_count": 19,
   "id": "7baccd6e",
   "metadata": {},
   "outputs": [
    {
     "name": "stdout",
     "output_type": "stream",
     "text": [
      "Input: 12\n",
      "Input: 45\n",
      "Input: 32\n",
      "Input: 4\n",
      "Input: -23\n",
      "Input: 55\n",
      "Input: 3\n",
      "Input: 5\n",
      "Input: 2\n",
      "Input: 5\n",
      "The Largest Number is 55\n",
      "The Smallest Number is -23\n"
     ]
    }
   ],
   "source": [
    "#num1 = [3, -3 ,34, 35, 9, -45, 43, 4, 67, 1]\n",
    "num1 = [0] * 10\n",
    "for i in range(10):\n",
    "    num1[i] = int(input(\"Input: \"))\n",
    "    \n",
    "for i in range(10):\n",
    "    for j in range(9-i):\n",
    "         if num1[j] > num1 [j+1]:\n",
    "            x = num1[j]\n",
    "            num1[j] = num1[j+1]\n",
    "            num1[j+1] = x\n",
    "            \n",
    "print(f\"The Largest Number is {num1[9]}\")\n",
    "print(f\"The Smallest Number is {num1[0]}\")"
   ]
  },
  {
   "cell_type": "code",
   "execution_count": null,
   "id": "191a5fa5",
   "metadata": {},
   "outputs": [],
   "source": [
    "#Walrus Operated\n",
    "(a := 23)"
   ]
  },
  {
   "cell_type": "code",
   "execution_count": 11,
   "id": "eb1d686e",
   "metadata": {},
   "outputs": [
    {
     "name": "stdout",
     "output_type": "stream",
     "text": [
      "Enter your Mobile No: 1234567890\n",
      "45\n"
     ]
    }
   ],
   "source": [
    "mob = input(\"Enter your Mobile No: \")\n",
    "sum = 0\n",
    "if len(mob) == 10:\n",
    "    list(mob)\n",
    "    for i in mob:\n",
    "        sum += int(i)\n",
    "else:\n",
    "    print(\"Please Input 10 digits\")\n",
    "    \n",
    "print(sum)"
   ]
  },
  {
   "cell_type": "code",
   "execution_count": 22,
   "id": "8923ea1e",
   "metadata": {},
   "outputs": [
    {
     "name": "stdout",
     "output_type": "stream",
     "text": [
      "Enter your Mobile No: 1234567890\n",
      "45\n"
     ]
    }
   ],
   "source": [
    "mob = input(\"Enter your Mobile No: \")\n",
    "sum = 0\n",
    "if len(mob) == 10:\n",
    "    for i in mob:\n",
    "        sum += int(i)\n",
    "print(sum)"
   ]
  }
 ],
 "metadata": {
  "kernelspec": {
   "display_name": "Python 3 (ipykernel)",
   "language": "python",
   "name": "python3"
  },
  "language_info": {
   "codemirror_mode": {
    "name": "ipython",
    "version": 3
   },
   "file_extension": ".py",
   "mimetype": "text/x-python",
   "name": "python",
   "nbconvert_exporter": "python",
   "pygments_lexer": "ipython3",
   "version": "3.11.5"
  }
 },
 "nbformat": 4,
 "nbformat_minor": 5
}
