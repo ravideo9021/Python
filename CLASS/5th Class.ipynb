{
 "cells": [
  {
   "cell_type": "code",
   "execution_count": 1,
   "id": "e0048349",
   "metadata": {},
   "outputs": [
    {
     "name": "stdout",
     "output_type": "stream",
     "text": [
      "Age: 19\n",
      "Eligible\n"
     ]
    }
   ],
   "source": [
    "age = int(input(\"Age: \"))\n",
    "\n",
    "if age >= 18:\n",
    "    print(\"Eligible\")\n",
    "    \n",
    "else:\n",
    "    print(\"Not Eligible\")"
   ]
  },
  {
   "cell_type": "code",
   "execution_count": 3,
   "id": "8ec3655f",
   "metadata": {},
   "outputs": [
    {
     "name": "stdout",
     "output_type": "stream",
     "text": [
      "Age: 19\n",
      "You can vote\n"
     ]
    }
   ],
   "source": [
    "age = int(input(\"Age: \"))\n",
    "\n",
    "message = \"You can vote\" if age >= 18 else \"You Can't\"\n",
    "\n",
    "print(message)"
   ]
  },
  {
   "cell_type": "code",
   "execution_count": 4,
   "id": "7bfb07c8",
   "metadata": {},
   "outputs": [
    {
     "name": "stdout",
     "output_type": "stream",
     "text": [
      "Eligible\n"
     ]
    }
   ],
   "source": [
    "print(\"Eligible\") if age >= 18 else print(\"Not Eligible\")"
   ]
  },
  {
   "cell_type": "code",
   "execution_count": 7,
   "id": "255e8518",
   "metadata": {},
   "outputs": [
    {
     "name": "stdout",
     "output_type": "stream",
     "text": [
      "Marks: 20\n",
      "FAIL\n"
     ]
    }
   ],
   "source": [
    "marks = int(input(\"Marks: \"))\n",
    "\n",
    "if 90 < marks <= 100:\n",
    "    print(\"A\")\n",
    "elif 80 < marks <= 90:\n",
    "    print(\"B\")\n",
    "elif 70 < marks <= 60:\n",
    "    print(\"C\")\n",
    "else:\n",
    "    print(\"FAIL\")"
   ]
  },
  {
   "cell_type": "code",
   "execution_count": 10,
   "id": "0b31df34",
   "metadata": {},
   "outputs": [
    {
     "name": "stdout",
     "output_type": "stream",
     "text": [
      "Age: 0\n",
      "Invalid Age\n"
     ]
    }
   ],
   "source": [
    "age = int(input(\"Age: \"))\n",
    "\n",
    "if age <= 0:\n",
    "    print(\"Invalid Age\")\n",
    "elif 0 < age < 18:\n",
    "    print(\"Not Eligible to Vote\")\n",
    "else:\n",
    "    print(\"Eligible to Vote\")"
   ]
  },
  {
   "cell_type": "code",
   "execution_count": 13,
   "id": "f13f6cc8",
   "metadata": {},
   "outputs": [
    {
     "name": "stdout",
     "output_type": "stream",
     "text": [
      "Collecting pyfiglet\n",
      "  Obtaining dependency information for pyfiglet from https://files.pythonhosted.org/packages/1a/03/bef6fff907e212d67a0003f8ea4819307bba91b2856074a0763dd483ccc4/pyfiglet-1.0.2-py3-none-any.whl.metadata\n",
      "  Downloading pyfiglet-1.0.2-py3-none-any.whl.metadata (7.1 kB)\n",
      "Downloading pyfiglet-1.0.2-py3-none-any.whl (1.1 MB)\n",
      "\u001b[2K   \u001b[90m━━━━━━━━━━━━━━━━━━━━━━━━━━━━━━━━━━━━━━━━\u001b[0m \u001b[32m1.1/1.1 MB\u001b[0m \u001b[31m3.3 MB/s\u001b[0m eta \u001b[36m0:00:00\u001b[0ma \u001b[36m0:00:01\u001b[0m\n",
      "\u001b[?25hInstalling collected packages: pyfiglet\n",
      "Successfully installed pyfiglet-1.0.2\n",
      "Note: you may need to restart the kernel to use updated packages.\n"
     ]
    }
   ],
   "source": [
    "pip install pyfiglet"
   ]
  },
  {
   "cell_type": "code",
   "execution_count": 1,
   "id": "b8cb8aba",
   "metadata": {},
   "outputs": [
    {
     "name": "stdout",
     "output_type": "stream",
     "text": [
      "    ______  __________  ______  _   __   \n",
      "   / __ \\ \\/ /_  __/ / / / __ \\/ | / /   \n",
      "  / /_/ /\\  / / / / /_/ / / / /  |/ /    \n",
      " / ____/ / / / / / __  / /_/ / /|  /     \n",
      "/_/     /_/ /_/ /_/ /_/\\____/_/ |_/      \n",
      "                                         \n",
      "    ____  ____  ____  __________  ___    __  _____  ________   ________\n",
      "   / __ \\/ __ \\/ __ \\/ ____/ __ \\/   |  /  |/  /  |/  /  _/ | / / ____/\n",
      "  / /_/ / /_/ / / / / / __/ /_/ / /| | / /|_/ / /|_/ // //  |/ / / __  \n",
      " / ____/ _, _/ /_/ / /_/ / _, _/ ___ |/ /  / / /  / // // /|  / /_/ /  \n",
      "/_/   /_/ |_|\\____/\\____/_/ |_/_/  |_/_/  /_/_/  /_/___/_/ |_/\\____/   \n",
      "                                                                       \n",
      "\n"
     ]
    }
   ],
   "source": [
    "from pyfiglet import Figlet\n",
    "\n",
    "font = Figlet(font = 'slant')\n",
    "print(font.renderText(\"PYTHON 🖕 PROGRAMMING\"))"
   ]
  },
  {
   "cell_type": "code",
   "execution_count": 3,
   "id": "7d05a346",
   "metadata": {},
   "outputs": [
    {
     "name": "stdout",
     "output_type": "stream",
     "text": [
      "All Numbers are even\n"
     ]
    }
   ],
   "source": [
    "lst = [2, 4, 8, 10]\n",
    "\n",
    "if all(x % 2 == 0 for x in lst):\n",
    "    print(\"All Numbers are even\")\n",
    "else: print(\"Not all numbers are even\")"
   ]
  },
  {
   "cell_type": "code",
   "execution_count": 20,
   "id": "90391b77",
   "metadata": {},
   "outputs": [
    {
     "name": "stdout",
     "output_type": "stream",
     "text": [
      "Even Numbers: 2, 4, 8, 10, 34, 12, \n",
      "Odd Numbers: 5, 7, 99, 45, 11, "
     ]
    }
   ],
   "source": [
    "lst = [2, 4, 5, 7, 8, 10, 99, 34, 45, 11, 12]\n",
    "\n",
    "print(\"Even Numbers: \", end = '')\n",
    "for i in lst:\n",
    "    if i % 2 == 0:\n",
    "        print(i, end = ', ')\n",
    "        \n",
    "print()\n",
    "print(\"Odd Numbers: \", end = '')\n",
    "for i in lst:\n",
    "    if i % 2 != 0:\n",
    "        print(i, end = ', ')\n",
    "        "
   ]
  },
  {
   "cell_type": "code",
   "execution_count": 23,
   "id": "e95d070b",
   "metadata": {},
   "outputs": [
    {
     "name": "stdout",
     "output_type": "stream",
     "text": [
      "x = 10\n",
      "y = 345\n",
      "True\n"
     ]
    }
   ],
   "source": [
    "x = int(input(\"x = \"))\n",
    "y = int(input(\"y = \"))\n",
    "\n",
    "if x == 10 or y == 12:\n",
    "    print(\"True\")"
   ]
  },
  {
   "cell_type": "code",
   "execution_count": 28,
   "id": "4a0b0491",
   "metadata": {},
   "outputs": [
    {
     "name": "stdout",
     "output_type": "stream",
     "text": [
      "True\n"
     ]
    }
   ],
   "source": [
    "x = 10\n",
    "if x == 10 or hello(): # hello is not defined but python interpreter will print True, \n",
    "    print(\"True\")      # it will imidiatly go to next line cause when x is true no need to check hello()\n"
   ]
  },
  {
   "cell_type": "code",
   "execution_count": 37,
   "id": "f9d3a6ee",
   "metadata": {},
   "outputs": [
    {
     "name": "stdout",
     "output_type": "stream",
     "text": [
      "Num? 3\n",
      "NA NA\n",
      "🖕\n"
     ]
    }
   ],
   "source": [
    "x = int(input(\"Num? \"))\n",
    "if x < 10:\n",
    "    print(\"NA NA\") # pass keyword is just to do nothing, if you do not add pass and write nothing inside it will show error.\n",
    "    pass\n",
    "    print(\"🖕\")\n",
    "else:\n",
    "    print(\"HA HA\")"
   ]
  }
 ],
 "metadata": {
  "kernelspec": {
   "display_name": "Python 3 (ipykernel)",
   "language": "python",
   "name": "python3"
  },
  "language_info": {
   "codemirror_mode": {
    "name": "ipython",
    "version": 3
   },
   "file_extension": ".py",
   "mimetype": "text/x-python",
   "name": "python",
   "nbconvert_exporter": "python",
   "pygments_lexer": "ipython3",
   "version": "3.11.5"
  }
 },
 "nbformat": 4,
 "nbformat_minor": 5
}
