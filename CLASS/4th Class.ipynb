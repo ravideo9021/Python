{
 "cells": [
  {
   "cell_type": "code",
   "execution_count": 4,
   "id": "65cdff73",
   "metadata": {},
   "outputs": [
    {
     "name": "stdout",
     "output_type": "stream",
     "text": [
      "Input: hello\n",
      "HELLO\n"
     ]
    }
   ],
   "source": [
    "str = input(\"Input: \").upper()\n",
    "print(str)"
   ]
  },
  {
   "cell_type": "code",
   "execution_count": 1,
   "id": "4d67a6ad",
   "metadata": {},
   "outputs": [
    {
     "name": "stdout",
     "output_type": "stream",
     "text": [
      "Input: Ravi Deo\n",
      "RaVi dEo\n"
     ]
    }
   ],
   "source": [
    "str = input(\"Input: \")\n",
    "result = ''\n",
    "for i in range(len(str)):\n",
    "    if i % 2 == 0:\n",
    "        result += str[i].upper()\n",
    "    else:\n",
    "        result += str[i].lower()\n",
    "print(result)"
   ]
  },
  {
   "cell_type": "code",
   "execution_count": 9,
   "id": "5494c367",
   "metadata": {},
   "outputs": [
    {
     "name": "stdout",
     "output_type": "stream",
     "text": [
      "The value of a is 20 and value of b is 20\n"
     ]
    }
   ],
   "source": [
    "a = 10; b = 20 #multiple statement in single line.\n",
    "print(\"The value of a is {1} and value of b is {1}\".format(a, b))"
   ]
  },
  {
   "cell_type": "code",
   "execution_count": 11,
   "id": "ca2f6e81",
   "metadata": {},
   "outputs": [
    {
     "name": "stdout",
     "output_type": "stream",
     "text": [
      "Hello Good Morning, Ravi\n"
     ]
    }
   ],
   "source": [
    "#we can use keyword arguments to formate string\n",
    "print(\"Hello {greeting}, {name}\".format(name = \"Ravi\", greeting = \"Good Morning\"))\n",
    "# name = key, Ravi = value"
   ]
  },
  {
   "cell_type": "code",
   "execution_count": 12,
   "id": "03cf2b1f",
   "metadata": {},
   "outputs": [
    {
     "name": "stdout",
     "output_type": "stream",
     "text": [
      "The story of ravi, Aditya, and A Kind\n"
     ]
    }
   ],
   "source": [
    "#we can combine positional arguments with keyword argument\n",
    "print(\"The story of {0}, {1}, and {other}\".format(\"ravi\", \"Aditya\", other = \"A Kind\"))"
   ]
  },
  {
   "cell_type": "code",
   "execution_count": 14,
   "id": "526a5f2f",
   "metadata": {},
   "outputs": [
    {
     "name": "stdout",
     "output_type": "stream",
     "text": [
      "a = 1, b = 1, c = -1, d = -1\n"
     ]
    }
   ],
   "source": [
    "a = 15 % 2\n",
    "b = -15 % 2\n",
    "c = -15 % -2\n",
    "d = 15 % -2\n",
    "print(f\"a = {a}, b = {b}, c = {c}, d = {d}\")"
   ]
  },
  {
   "cell_type": "code",
   "execution_count": 15,
   "id": "c3678eeb",
   "metadata": {},
   "outputs": [
    {
     "name": "stdout",
     "output_type": "stream",
     "text": [
      "True\n"
     ]
    }
   ],
   "source": [
    "a, b = 10, 20\n",
    "print(a < b)"
   ]
  },
  {
   "cell_type": "code",
   "execution_count": 18,
   "id": "d9eb0a7e",
   "metadata": {},
   "outputs": [
    {
     "name": "stdout",
     "output_type": "stream",
     "text": [
      "True\n",
      "False\n"
     ]
    }
   ],
   "source": [
    "a, b = True, False\n",
    "\n",
    "print(a or b)\n",
    "print(a and b)"
   ]
  },
  {
   "cell_type": "code",
   "execution_count": 19,
   "id": "bbec3bc9",
   "metadata": {},
   "outputs": [
    {
     "name": "stdout",
     "output_type": "stream",
     "text": [
      "1\n"
     ]
    }
   ],
   "source": [
    "a, b = 11, 5\n",
    "#Bitwise AND\n",
    "print(a & b)\n",
    "\n",
    "#Bitwise OR\n"
   ]
  },
  {
   "cell_type": "code",
   "execution_count": 21,
   "id": "65b8e65e",
   "metadata": {},
   "outputs": [
    {
     "name": "stdout",
     "output_type": "stream",
     "text": [
      "80\n"
     ]
    }
   ],
   "source": [
    "a, b = 10, 20\n",
    "print(b << 2)"
   ]
  }
 ],
 "metadata": {
  "kernelspec": {
   "display_name": "Python 3 (ipykernel)",
   "language": "python",
   "name": "python3"
  },
  "language_info": {
   "codemirror_mode": {
    "name": "ipython",
    "version": 3
   },
   "file_extension": ".py",
   "mimetype": "text/x-python",
   "name": "python",
   "nbconvert_exporter": "python",
   "pygments_lexer": "ipython3",
   "version": "3.11.5"
  }
 },
 "nbformat": 4,
 "nbformat_minor": 5
}
