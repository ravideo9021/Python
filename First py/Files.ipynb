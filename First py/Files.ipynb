{
 "cells": [
  {
   "cell_type": "code",
   "execution_count": 1,
   "id": "99a4f1c3",
   "metadata": {},
   "outputs": [
    {
     "name": "stdout",
     "output_type": "stream",
     "text": [
      "What is your name? Golu Kumar\n"
     ]
    }
   ],
   "source": [
    "name = input(\"What is your name? \")\n",
    "\n",
    "namefile = open(\"names.txt\", \"a\")\n",
    "namefile.write(f\"{name}\\n\")\n",
    "namefile.close()"
   ]
  },
  {
   "cell_type": "code",
   "execution_count": 2,
   "id": "f695477d",
   "metadata": {},
   "outputs": [
    {
     "name": "stdout",
     "output_type": "stream",
     "text": [
      "What is your name? Rahul Gupta\n"
     ]
    }
   ],
   "source": [
    "name = input(\"What is your name? \")\n",
    "\n",
    "with open(\"names.txt\", \"a\") as namefile:\n",
    "    namefile.write(f\"{name}\\n\")"
   ]
  },
  {
   "cell_type": "code",
   "execution_count": 4,
   "id": "c6e747b5",
   "metadata": {},
   "outputs": [
    {
     "name": "stdout",
     "output_type": "stream",
     "text": [
      "Ravi Deo\n",
      "Vivek Kumar\n",
      "Aditya Kumar\n",
      "Aman Kumar\n",
      "Sumit Kumar\n",
      "Another One\n",
      "Golu Kumar\n",
      "Rahul Gupta\n"
     ]
    }
   ],
   "source": [
    "with open(\"names.txt\", \"r\") as file:\n",
    "    lines = file.readlines()\n",
    "    \n",
    "for line in lines:\n",
    "    print(line.rstrip())"
   ]
  },
  {
   "cell_type": "code",
   "execution_count": 5,
   "id": "60d7d3ed",
   "metadata": {
    "scrolled": false
   },
   "outputs": [
    {
     "name": "stdout",
     "output_type": "stream",
     "text": [
      "Ravi Deo\n",
      "Vivek Kumar\n",
      "Aditya Kumar\n",
      "Aman Kumar\n",
      "Sumit Kumar\n",
      "Another One\n",
      "Golu Kumar\n",
      "Rahul Gupta\n"
     ]
    }
   ],
   "source": [
    "with open(\"names.txt\", \"r\") as file:\n",
    "    for line in file:\n",
    "        print(line.rstrip())"
   ]
  },
  {
   "cell_type": "code",
   "execution_count": 7,
   "id": "708da569",
   "metadata": {},
   "outputs": [
    {
     "name": "stdout",
     "output_type": "stream",
     "text": [
      "Aditya Kumar\n",
      "Aman Kumar\n",
      "Another One\n",
      "Golu Kumar\n",
      "Rahul Gupta\n",
      "Ravi Deo\n",
      "Sumit Kumar\n",
      "Vivek Kumar\n"
     ]
    }
   ],
   "source": [
    "names = []\n",
    "with open(\"names.txt\") as file:\n",
    "    for line in file:\n",
    "        names.append(line.rstrip())\n",
    "        \n",
    "for name in sorted(names):\n",
    "    print(name)"
   ]
  },
  {
   "cell_type": "code",
   "execution_count": 6,
   "id": "d219bee0",
   "metadata": {},
   "outputs": [
    {
     "name": "stdout",
     "output_type": "stream",
     "text": [
      "Ravi Deo is living in Greater Noida\n",
      "Aman Kuamr is living in Delhi\n",
      "Aditya Kuamr is living in Rungta\n",
      "Vivek Kuamr is living in Jaiselmer\n"
     ]
    }
   ],
   "source": [
    "with open(\"students.csv\") as file:\n",
    "    for line in file:\n",
    "        row = line.rstrip().split(\",\")\n",
    "        print(f\"{row[0]} is living in {row[1]}\")"
   ]
  },
  {
   "cell_type": "code",
   "execution_count": 11,
   "id": "7b40fabf",
   "metadata": {},
   "outputs": [
    {
     "name": "stdout",
     "output_type": "stream",
     "text": [
      "Ravi Deo is living in Greater Noida\n",
      "Aman Kuamr is living in Delhi\n",
      "Aditya Kuamr is living in Rungta\n",
      "Vivek Kuamr is living in Jaiselmer\n"
     ]
    }
   ],
   "source": [
    "with open(\"students.csv\") as file:\n",
    "    for lines in file:\n",
    "        name, place = lines.rstrip().split(\",\")\n",
    "        print(f\"{name} is living in {place}\")"
   ]
  },
  {
   "cell_type": "code",
   "execution_count": 19,
   "id": "fbcd0f37",
   "metadata": {},
   "outputs": [
    {
     "name": "stdout",
     "output_type": "stream",
     "text": [
      "Aditya Kuamr is in Rungta\n",
      "Aman Kuamr is in Delhi\n",
      "Ravi Deo is in Greater Noida\n",
      "Vivek Kuamr is in Jaiselmer\n"
     ]
    }
   ],
   "source": [
    "students = []\n",
    "\n",
    "with open(\"students.csv\") as file:\n",
    "    for lines in file:\n",
    "        name, place = lines.rstrip().split(\",\")\n",
    "        students.append(f\"{name} is in {place}\")\n",
    "\n",
    "for student in sorted(students):\n",
    "    print(student)"
   ]
  },
  {
   "cell_type": "code",
   "execution_count": 32,
   "id": "d1aee7d4",
   "metadata": {
    "scrolled": true
   },
   "outputs": [
    {
     "name": "stdout",
     "output_type": "stream",
     "text": [
      "Ravi Deo is in Greater Noida\n",
      "Aman Kuamr is in Delhi\n",
      "Aditya Kuamr is in Rungta\n",
      "Vivek Kuamr is in Jaiselmer\n"
     ]
    }
   ],
   "source": [
    "students = []\n",
    "\n",
    "with open(\"students.csv\") as file:\n",
    "    for line in file:\n",
    "        student = {}\n",
    "        name, place = line.rstrip().split(\",\")\n",
    "        student[\"name\"] = name\n",
    "        student[\"place\"] = place\n",
    "        students.append(student)\n",
    "        \n",
    "for boys in students:\n",
    "    print(f\"{boys['name']} is in {boys['place']}\")"
   ]
  },
  {
   "cell_type": "code",
   "execution_count": 36,
   "id": "fad2633f",
   "metadata": {},
   "outputs": [
    {
     "name": "stdout",
     "output_type": "stream",
     "text": [
      "Ravi Deo is in Greater Noida\n",
      "Aman Kuamr is in Delhi\n",
      "Aditya Kuamr is in Rungta\n",
      "Vivek Kuamr is in Jaiselmer\n"
     ]
    }
   ],
   "source": [
    "students = []\n",
    "\n",
    "with open(\"students.csv\") as file:\n",
    "    for line in file:\n",
    "        name, place = line.rstrip().split(\",\")\n",
    "        student = {\"name\": name, \"place\": place}\n",
    "        students.append(student)\n",
    "        \n",
    "for student in students:\n",
    "    print(f\"{student['name']} is in {student['place']}\")"
   ]
  },
  {
   "cell_type": "code",
   "execution_count": 49,
   "id": "2133a4cc",
   "metadata": {},
   "outputs": [
    {
     "name": "stdout",
     "output_type": "stream",
     "text": [
      "Aditya Kuamr is in Rungta\n",
      "Aman Kuamr is in Delhi\n",
      "Ravi Deo is in Greater Noida\n",
      "Vivek Kuamr is in Jaiselmer\n"
     ]
    }
   ],
   "source": [
    "students = []\n",
    "\n",
    "with open(\"students.csv\") as file:\n",
    "    for line in file:\n",
    "        name, place = line.rstrip().split(\",\")\n",
    "        students.append({\"name\": name, \"place\": place})\n",
    "        \n",
    "def get_name(student):\n",
    "    return student[\"name\"]\n",
    "        \n",
    "for student in sorted(students, key = get_name):\n",
    "    print(f\"{student['name']} is in {student['place']}\")"
   ]
  },
  {
   "cell_type": "code",
   "execution_count": 52,
   "id": "78e54f8b",
   "metadata": {},
   "outputs": [
    {
     "name": "stdout",
     "output_type": "stream",
     "text": [
      "Aditya Kuamr is at Rungta\n",
      "Aman Kuamr is at Delhi\n",
      "Ravi Deo is at Greater Noida\n",
      "Vivek Kuamr is at Jaiselmer\n"
     ]
    }
   ],
   "source": [
    "students = []\n",
    "\n",
    "with open(\"students.csv\") as file:\n",
    "    for lines in file:\n",
    "        name, place = lines.rstrip().split(\",\")\n",
    "        students.append({\"name\": name, \"place\": place})\n",
    "        \n",
    "for student in sorted(students, key=lambda student: student[\"name\"]):\n",
    "    print(f\"{student['name']} is at {student['place']}\")"
   ]
  },
  {
   "cell_type": "code",
   "execution_count": 60,
   "id": "c314bfb8",
   "metadata": {},
   "outputs": [
    {
     "ename": "ValueError",
     "evalue": "too many values to unpack (expected 2)",
     "output_type": "error",
     "traceback": [
      "\u001b[0;31m---------------------------------------------------------------------------\u001b[0m",
      "\u001b[0;31mValueError\u001b[0m                                Traceback (most recent call last)",
      "Cell \u001b[0;32mIn[60], line 4\u001b[0m\n\u001b[1;32m      2\u001b[0m \u001b[38;5;28;01mwith\u001b[39;00m \u001b[38;5;28mopen\u001b[39m(\u001b[38;5;124m\"\u001b[39m\u001b[38;5;124mus.csv\u001b[39m\u001b[38;5;124m\"\u001b[39m) \u001b[38;5;28;01mas\u001b[39;00m file:\n\u001b[1;32m      3\u001b[0m     \u001b[38;5;28;01mfor\u001b[39;00m lines \u001b[38;5;129;01min\u001b[39;00m file:\n\u001b[0;32m----> 4\u001b[0m         name, place \u001b[38;5;241m=\u001b[39m lines\u001b[38;5;241m.\u001b[39mrstrip()\u001b[38;5;241m.\u001b[39msplit(\u001b[38;5;124m\"\u001b[39m\u001b[38;5;124m,\u001b[39m\u001b[38;5;124m\"\u001b[39m)\n\u001b[1;32m      5\u001b[0m         students\u001b[38;5;241m.\u001b[39mappend({\u001b[38;5;124m\"\u001b[39m\u001b[38;5;124mname\u001b[39m\u001b[38;5;124m\"\u001b[39m: name, \u001b[38;5;124m\"\u001b[39m\u001b[38;5;124mplace\u001b[39m\u001b[38;5;124m\"\u001b[39m: place})\n\u001b[1;32m      7\u001b[0m \u001b[38;5;28;01mfor\u001b[39;00m student \u001b[38;5;129;01min\u001b[39;00m \u001b[38;5;28msorted\u001b[39m(students, key\u001b[38;5;241m=\u001b[39m\u001b[38;5;28;01mlambda\u001b[39;00m student: student[\u001b[38;5;124m\"\u001b[39m\u001b[38;5;124mname\u001b[39m\u001b[38;5;124m\"\u001b[39m]):\n",
      "\u001b[0;31mValueError\u001b[0m: too many values to unpack (expected 2)"
     ]
    }
   ],
   "source": [
    "students = []\n",
    "with open(\"us.csv\") as file:\n",
    "    for lines in file:\n",
    "        name, place = lines.rstrip().split(\",\")\n",
    "        students.append({\"name\": name, \"place\": place})\n",
    "        \n",
    "for student in sorted(students, key=lambda student: student[\"name\"]):\n",
    "    print(f\"{student['name']} is from {student['place']}\")"
   ]
  },
  {
   "cell_type": "code",
   "execution_count": 80,
   "id": "a33ef301",
   "metadata": {},
   "outputs": [
    {
     "name": "stdout",
     "output_type": "stream",
     "text": [
      "Aditya Kumar is from Takiya Par, Dnanapur\n",
      "Aman Kumar is from Takiya par, Danapur\n",
      "Ravi Deo is from TLP, Ramdhar Nager\n",
      "Vivek Kuamr is from Devi Asthan, Maner\n"
     ]
    }
   ],
   "source": [
    "import csv\n",
    "\n",
    "students = []\n",
    "\n",
    "with open(\"us.csv\") as file:\n",
    "    reader = csv.reader(file)\n",
    "    for row in reader:\n",
    "        students.append({\"name\":row[0], \"place\":row[1]})\n",
    "\n",
    "for student in sorted(students, key=lambda student: student[\"name\"]):\n",
    "    print(f\"{student['name']} is from {student['place']}\")"
   ]
  },
  {
   "cell_type": "code",
   "execution_count": 81,
   "id": "444f873a",
   "metadata": {},
   "outputs": [
    {
     "name": "stdout",
     "output_type": "stream",
     "text": [
      "Aditya Kumar is from Takiya Par, Dnanapur\n",
      "Aman Kumar is from Takiya par, Danapur\n",
      "Ravi Deo is from TLP, Ramdhar Nager\n",
      "Vivek Kuamr is from Devi Asthan, Maner\n"
     ]
    }
   ],
   "source": [
    "import csv\n",
    "students = []\n",
    "\n",
    "with open(\"us.csv\") as file:\n",
    "    reader = csv.DictReader(file)\n",
    "    for row in reader:\n",
    "        students.append({\"name\": row[\"name\"], \"place\": row[\"place\"]})\n",
    "        \n",
    "for student in sorted(students, key=lambda student: student[\"name\"]):\n",
    "    print(f\"{student['name']} is from {student['place']}\")"
   ]
  },
  {
   "cell_type": "code",
   "execution_count": 85,
   "id": "af6e357d",
   "metadata": {},
   "outputs": [
    {
     "name": "stdout",
     "output_type": "stream",
     "text": [
      "What is your name? Vivek Kumar\n",
      "Whwre do you live? Jaiselmer, Rajasthan\n"
     ]
    }
   ],
   "source": [
    "import csv\n",
    "\n",
    "name = input(\"What is your name? \")\n",
    "place = input(\"Whwre do you live? \")\n",
    "\n",
    "with open(\"in_students.csv\" , \"a\") as file:\n",
    "    writer = csv.DictWriter(file, fieldnames=[\"name\", \"place\"])\n",
    "    writer.writerow({\"name\": name, \"place\": place})"
   ]
  }
 ],
 "metadata": {
  "kernelspec": {
   "display_name": "Python 3 (ipykernel)",
   "language": "python",
   "name": "python3"
  },
  "language_info": {
   "codemirror_mode": {
    "name": "ipython",
    "version": 3
   },
   "file_extension": ".py",
   "mimetype": "text/x-python",
   "name": "python",
   "nbconvert_exporter": "python",
   "pygments_lexer": "ipython3",
   "version": "3.11.5"
  }
 },
 "nbformat": 4,
 "nbformat_minor": 5
}
